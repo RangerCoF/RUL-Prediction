{
 "cells": [
  {
   "cell_type": "markdown",
   "metadata": {},
   "source": [
    "# Run to Failure degradation simulation of NASA Turbo Jet Engine Fans"
   ]
  },
  {
   "cell_type": "markdown",
   "metadata": {},
   "source": [
    "# <a id='index'>Index</a>"
   ]
  },
  {
   "cell_type": "markdown",
   "metadata": {},
   "source": [
    "+ <a href='#data_analysis'>1. Data Analysis</a>\n",
    "    + <a href='#info_about_data'>1.1 Info about data:</a>\n",
    "+ <a href='#noise_removal'>2. Noise removal and Normalization</a>\n",
    "+ <a href='#training_and_validation'>3. Training and Validation</a>\n",
    "+ <a href='#testing'>4 Testing</a>"
   ]
  },
  {
   "cell_type": "code",
   "execution_count": 1,
   "metadata": {},
   "outputs": [
    {
     "name": "stderr",
     "output_type": "stream",
     "text": [
      "C:\\Users\\CallO\\AppData\\Local\\Temp\\ipykernel_16304\\2410309670.py:31: MatplotlibDeprecationWarning: The get_cmap function was deprecated in Matplotlib 3.7 and will be removed two minor releases later. Use ``matplotlib.colormaps[name]`` or ``matplotlib.colormaps.get_cmap(obj)`` instead.\n",
      "  cmap = cm.get_cmap('Spectral') # Colour map (there are many others)\n"
     ]
    }
   ],
   "source": [
    "import numpy as np\n",
    "import pandas as pd\n",
    "import seaborn as sns\n",
    "import math\n",
    "import matplotlib.pyplot as plt\n",
    "from matplotlib import cm\n",
    "\n",
    "from sklearn.decomposition import PCA\n",
    "from sklearn.preprocessing import MinMaxScaler\n",
    "from sklearn.model_selection import train_test_split, cross_val_score\n",
    "from sklearn.preprocessing import QuantileTransformer , PowerTransformer\n",
    "from sklearn.ensemble import RandomForestRegressor\n",
    "from sklearn.metrics import mean_absolute_error\n",
    "from sklearn.metrics import r2_score\n",
    "from sklearn.metrics import accuracy_score\n",
    "from sklearn.metrics import mean_squared_error\n",
    "from sklearn.linear_model import LinearRegression\n",
    "from sklearn.linear_model import LogisticRegression\n",
    "\n",
    "# from keras import optimizers\n",
    "# from keras.models import Sequential\n",
    "# from keras.layers import TimeDistributed, Flatten\n",
    "# from keras.layers.core import Dense, Dropout, Activation\n",
    "# from keras.layers.recurrent import LSTM\n",
    "from sklearn.metrics import mean_squared_error\n",
    "\n",
    "import warnings \n",
    "#warnings.filterwarnings('ignore')\n",
    "\n",
    "%matplotlib inline\n",
    "cmap = cm.get_cmap('Spectral') # Colour map (there are many others)\n",
    "\n",
    "from sklearn.metrics import mean_absolute_error\n",
    "from sklearn.metrics import mean_squared_error\n",
    "from sklearn.metrics import explained_variance_score\n",
    "from sklearn.metrics import r2_score\n",
    "\n",
    "# from keras.models import load_model\n",
    "\n",
    "import torch\n",
    "import torch.nn as nn\n",
    "import torch.optim as optim\n",
    "from torch.utils.data import DataLoader, TensorDataset\n",
    "from torchsummary import summary\n",
    "\n",
    "from tqdm import tqdm"
   ]
  },
  {
   "cell_type": "markdown",
   "metadata": {},
   "source": [
    "# <a id='data_analysis'>1. Data analysis</a>\n",
    "<a href='#index'>Go back to Index</a>"
   ]
  },
  {
   "cell_type": "code",
   "execution_count": 2,
   "metadata": {},
   "outputs": [
    {
     "data": {
      "text/html": [
       "<div>\n",
       "<style scoped>\n",
       "    .dataframe tbody tr th:only-of-type {\n",
       "        vertical-align: middle;\n",
       "    }\n",
       "\n",
       "    .dataframe tbody tr th {\n",
       "        vertical-align: top;\n",
       "    }\n",
       "\n",
       "    .dataframe thead th {\n",
       "        text-align: right;\n",
       "    }\n",
       "</style>\n",
       "<table border=\"1\" class=\"dataframe\">\n",
       "  <thead>\n",
       "    <tr style=\"text-align: right;\">\n",
       "      <th></th>\n",
       "      <th>0</th>\n",
       "      <th>1</th>\n",
       "      <th>2</th>\n",
       "      <th>3</th>\n",
       "      <th>4</th>\n",
       "      <th>5</th>\n",
       "      <th>6</th>\n",
       "      <th>7</th>\n",
       "      <th>8</th>\n",
       "      <th>9</th>\n",
       "      <th>...</th>\n",
       "      <th>18</th>\n",
       "      <th>19</th>\n",
       "      <th>20</th>\n",
       "      <th>21</th>\n",
       "      <th>22</th>\n",
       "      <th>23</th>\n",
       "      <th>24</th>\n",
       "      <th>25</th>\n",
       "      <th>26</th>\n",
       "      <th>27</th>\n",
       "    </tr>\n",
       "  </thead>\n",
       "  <tbody>\n",
       "    <tr>\n",
       "      <th>0</th>\n",
       "      <td>1</td>\n",
       "      <td>1</td>\n",
       "      <td>-0.0007</td>\n",
       "      <td>-0.0004</td>\n",
       "      <td>100.0</td>\n",
       "      <td>518.67</td>\n",
       "      <td>641.82</td>\n",
       "      <td>1589.70</td>\n",
       "      <td>1400.60</td>\n",
       "      <td>14.62</td>\n",
       "      <td>...</td>\n",
       "      <td>8138.62</td>\n",
       "      <td>8.4195</td>\n",
       "      <td>0.03</td>\n",
       "      <td>392</td>\n",
       "      <td>2388</td>\n",
       "      <td>100.0</td>\n",
       "      <td>39.06</td>\n",
       "      <td>23.4190</td>\n",
       "      <td>NaN</td>\n",
       "      <td>NaN</td>\n",
       "    </tr>\n",
       "    <tr>\n",
       "      <th>1</th>\n",
       "      <td>1</td>\n",
       "      <td>2</td>\n",
       "      <td>0.0019</td>\n",
       "      <td>-0.0003</td>\n",
       "      <td>100.0</td>\n",
       "      <td>518.67</td>\n",
       "      <td>642.15</td>\n",
       "      <td>1591.82</td>\n",
       "      <td>1403.14</td>\n",
       "      <td>14.62</td>\n",
       "      <td>...</td>\n",
       "      <td>8131.49</td>\n",
       "      <td>8.4318</td>\n",
       "      <td>0.03</td>\n",
       "      <td>392</td>\n",
       "      <td>2388</td>\n",
       "      <td>100.0</td>\n",
       "      <td>39.00</td>\n",
       "      <td>23.4236</td>\n",
       "      <td>NaN</td>\n",
       "      <td>NaN</td>\n",
       "    </tr>\n",
       "    <tr>\n",
       "      <th>2</th>\n",
       "      <td>1</td>\n",
       "      <td>3</td>\n",
       "      <td>-0.0043</td>\n",
       "      <td>0.0003</td>\n",
       "      <td>100.0</td>\n",
       "      <td>518.67</td>\n",
       "      <td>642.35</td>\n",
       "      <td>1587.99</td>\n",
       "      <td>1404.20</td>\n",
       "      <td>14.62</td>\n",
       "      <td>...</td>\n",
       "      <td>8133.23</td>\n",
       "      <td>8.4178</td>\n",
       "      <td>0.03</td>\n",
       "      <td>390</td>\n",
       "      <td>2388</td>\n",
       "      <td>100.0</td>\n",
       "      <td>38.95</td>\n",
       "      <td>23.3442</td>\n",
       "      <td>NaN</td>\n",
       "      <td>NaN</td>\n",
       "    </tr>\n",
       "    <tr>\n",
       "      <th>3</th>\n",
       "      <td>1</td>\n",
       "      <td>4</td>\n",
       "      <td>0.0007</td>\n",
       "      <td>0.0000</td>\n",
       "      <td>100.0</td>\n",
       "      <td>518.67</td>\n",
       "      <td>642.35</td>\n",
       "      <td>1582.79</td>\n",
       "      <td>1401.87</td>\n",
       "      <td>14.62</td>\n",
       "      <td>...</td>\n",
       "      <td>8133.83</td>\n",
       "      <td>8.3682</td>\n",
       "      <td>0.03</td>\n",
       "      <td>392</td>\n",
       "      <td>2388</td>\n",
       "      <td>100.0</td>\n",
       "      <td>38.88</td>\n",
       "      <td>23.3739</td>\n",
       "      <td>NaN</td>\n",
       "      <td>NaN</td>\n",
       "    </tr>\n",
       "    <tr>\n",
       "      <th>4</th>\n",
       "      <td>1</td>\n",
       "      <td>5</td>\n",
       "      <td>-0.0019</td>\n",
       "      <td>-0.0002</td>\n",
       "      <td>100.0</td>\n",
       "      <td>518.67</td>\n",
       "      <td>642.37</td>\n",
       "      <td>1582.85</td>\n",
       "      <td>1406.22</td>\n",
       "      <td>14.62</td>\n",
       "      <td>...</td>\n",
       "      <td>8133.80</td>\n",
       "      <td>8.4294</td>\n",
       "      <td>0.03</td>\n",
       "      <td>393</td>\n",
       "      <td>2388</td>\n",
       "      <td>100.0</td>\n",
       "      <td>38.90</td>\n",
       "      <td>23.4044</td>\n",
       "      <td>NaN</td>\n",
       "      <td>NaN</td>\n",
       "    </tr>\n",
       "  </tbody>\n",
       "</table>\n",
       "<p>5 rows × 28 columns</p>\n",
       "</div>"
      ],
      "text/plain": [
       "   0   1       2       3      4       5       6        7        8      9   \\\n",
       "0   1   1 -0.0007 -0.0004  100.0  518.67  641.82  1589.70  1400.60  14.62   \n",
       "1   1   2  0.0019 -0.0003  100.0  518.67  642.15  1591.82  1403.14  14.62   \n",
       "2   1   3 -0.0043  0.0003  100.0  518.67  642.35  1587.99  1404.20  14.62   \n",
       "3   1   4  0.0007  0.0000  100.0  518.67  642.35  1582.79  1401.87  14.62   \n",
       "4   1   5 -0.0019 -0.0002  100.0  518.67  642.37  1582.85  1406.22  14.62   \n",
       "\n",
       "   ...       18      19    20   21    22     23     24       25  26  27  \n",
       "0  ...  8138.62  8.4195  0.03  392  2388  100.0  39.06  23.4190 NaN NaN  \n",
       "1  ...  8131.49  8.4318  0.03  392  2388  100.0  39.00  23.4236 NaN NaN  \n",
       "2  ...  8133.23  8.4178  0.03  390  2388  100.0  38.95  23.3442 NaN NaN  \n",
       "3  ...  8133.83  8.3682  0.03  392  2388  100.0  38.88  23.3739 NaN NaN  \n",
       "4  ...  8133.80  8.4294  0.03  393  2388  100.0  38.90  23.4044 NaN NaN  \n",
       "\n",
       "[5 rows x 28 columns]"
      ]
     },
     "execution_count": 2,
     "metadata": {},
     "output_type": "execute_result"
    }
   ],
   "source": [
    "train_file = \"train_FD001.txt\" \n",
    "test_file = \"test_FD001.txt\"\n",
    "RUL_file = \"RUL_FD001.txt\"\n",
    "\n",
    "df = pd.read_csv(train_file,sep=\" \",header=None)\n",
    "df.head()"
   ]
  },
  {
   "cell_type": "code",
   "execution_count": 3,
   "metadata": {},
   "outputs": [
    {
     "data": {
      "text/html": [
       "<div>\n",
       "<style scoped>\n",
       "    .dataframe tbody tr th:only-of-type {\n",
       "        vertical-align: middle;\n",
       "    }\n",
       "\n",
       "    .dataframe tbody tr th {\n",
       "        vertical-align: top;\n",
       "    }\n",
       "\n",
       "    .dataframe thead th {\n",
       "        text-align: right;\n",
       "    }\n",
       "</style>\n",
       "<table border=\"1\" class=\"dataframe\">\n",
       "  <thead>\n",
       "    <tr style=\"text-align: right;\">\n",
       "      <th></th>\n",
       "      <th>Section-0</th>\n",
       "      <th>Section-1</th>\n",
       "      <th>Section-2</th>\n",
       "      <th>Section-3</th>\n",
       "      <th>Section-4</th>\n",
       "      <th>Section-5</th>\n",
       "      <th>Section-6</th>\n",
       "      <th>Section-7</th>\n",
       "      <th>Section-8</th>\n",
       "      <th>Section-9</th>\n",
       "      <th>...</th>\n",
       "      <th>Section-16</th>\n",
       "      <th>Section-17</th>\n",
       "      <th>Section-18</th>\n",
       "      <th>Section-19</th>\n",
       "      <th>Section-20</th>\n",
       "      <th>Section-21</th>\n",
       "      <th>Section-22</th>\n",
       "      <th>Section-23</th>\n",
       "      <th>Section-24</th>\n",
       "      <th>Section-25</th>\n",
       "    </tr>\n",
       "  </thead>\n",
       "  <tbody>\n",
       "    <tr>\n",
       "      <th>0</th>\n",
       "      <td>1</td>\n",
       "      <td>1</td>\n",
       "      <td>-0.0007</td>\n",
       "      <td>-0.0004</td>\n",
       "      <td>100.0</td>\n",
       "      <td>518.67</td>\n",
       "      <td>641.82</td>\n",
       "      <td>1589.70</td>\n",
       "      <td>1400.60</td>\n",
       "      <td>14.62</td>\n",
       "      <td>...</td>\n",
       "      <td>521.66</td>\n",
       "      <td>2388.02</td>\n",
       "      <td>8138.62</td>\n",
       "      <td>8.4195</td>\n",
       "      <td>0.03</td>\n",
       "      <td>392</td>\n",
       "      <td>2388</td>\n",
       "      <td>100.0</td>\n",
       "      <td>39.06</td>\n",
       "      <td>23.4190</td>\n",
       "    </tr>\n",
       "    <tr>\n",
       "      <th>1</th>\n",
       "      <td>1</td>\n",
       "      <td>2</td>\n",
       "      <td>0.0019</td>\n",
       "      <td>-0.0003</td>\n",
       "      <td>100.0</td>\n",
       "      <td>518.67</td>\n",
       "      <td>642.15</td>\n",
       "      <td>1591.82</td>\n",
       "      <td>1403.14</td>\n",
       "      <td>14.62</td>\n",
       "      <td>...</td>\n",
       "      <td>522.28</td>\n",
       "      <td>2388.07</td>\n",
       "      <td>8131.49</td>\n",
       "      <td>8.4318</td>\n",
       "      <td>0.03</td>\n",
       "      <td>392</td>\n",
       "      <td>2388</td>\n",
       "      <td>100.0</td>\n",
       "      <td>39.00</td>\n",
       "      <td>23.4236</td>\n",
       "    </tr>\n",
       "    <tr>\n",
       "      <th>2</th>\n",
       "      <td>1</td>\n",
       "      <td>3</td>\n",
       "      <td>-0.0043</td>\n",
       "      <td>0.0003</td>\n",
       "      <td>100.0</td>\n",
       "      <td>518.67</td>\n",
       "      <td>642.35</td>\n",
       "      <td>1587.99</td>\n",
       "      <td>1404.20</td>\n",
       "      <td>14.62</td>\n",
       "      <td>...</td>\n",
       "      <td>522.42</td>\n",
       "      <td>2388.03</td>\n",
       "      <td>8133.23</td>\n",
       "      <td>8.4178</td>\n",
       "      <td>0.03</td>\n",
       "      <td>390</td>\n",
       "      <td>2388</td>\n",
       "      <td>100.0</td>\n",
       "      <td>38.95</td>\n",
       "      <td>23.3442</td>\n",
       "    </tr>\n",
       "    <tr>\n",
       "      <th>3</th>\n",
       "      <td>1</td>\n",
       "      <td>4</td>\n",
       "      <td>0.0007</td>\n",
       "      <td>0.0000</td>\n",
       "      <td>100.0</td>\n",
       "      <td>518.67</td>\n",
       "      <td>642.35</td>\n",
       "      <td>1582.79</td>\n",
       "      <td>1401.87</td>\n",
       "      <td>14.62</td>\n",
       "      <td>...</td>\n",
       "      <td>522.86</td>\n",
       "      <td>2388.08</td>\n",
       "      <td>8133.83</td>\n",
       "      <td>8.3682</td>\n",
       "      <td>0.03</td>\n",
       "      <td>392</td>\n",
       "      <td>2388</td>\n",
       "      <td>100.0</td>\n",
       "      <td>38.88</td>\n",
       "      <td>23.3739</td>\n",
       "    </tr>\n",
       "    <tr>\n",
       "      <th>4</th>\n",
       "      <td>1</td>\n",
       "      <td>5</td>\n",
       "      <td>-0.0019</td>\n",
       "      <td>-0.0002</td>\n",
       "      <td>100.0</td>\n",
       "      <td>518.67</td>\n",
       "      <td>642.37</td>\n",
       "      <td>1582.85</td>\n",
       "      <td>1406.22</td>\n",
       "      <td>14.62</td>\n",
       "      <td>...</td>\n",
       "      <td>522.19</td>\n",
       "      <td>2388.04</td>\n",
       "      <td>8133.80</td>\n",
       "      <td>8.4294</td>\n",
       "      <td>0.03</td>\n",
       "      <td>393</td>\n",
       "      <td>2388</td>\n",
       "      <td>100.0</td>\n",
       "      <td>38.90</td>\n",
       "      <td>23.4044</td>\n",
       "    </tr>\n",
       "  </tbody>\n",
       "</table>\n",
       "<p>5 rows × 26 columns</p>\n",
       "</div>"
      ],
      "text/plain": [
       "   Section-0  Section-1  Section-2  Section-3  Section-4  Section-5  \\\n",
       "0          1          1    -0.0007    -0.0004      100.0     518.67   \n",
       "1          1          2     0.0019    -0.0003      100.0     518.67   \n",
       "2          1          3    -0.0043     0.0003      100.0     518.67   \n",
       "3          1          4     0.0007     0.0000      100.0     518.67   \n",
       "4          1          5    -0.0019    -0.0002      100.0     518.67   \n",
       "\n",
       "   Section-6  Section-7  Section-8  Section-9  ...  Section-16  Section-17  \\\n",
       "0     641.82    1589.70    1400.60      14.62  ...      521.66     2388.02   \n",
       "1     642.15    1591.82    1403.14      14.62  ...      522.28     2388.07   \n",
       "2     642.35    1587.99    1404.20      14.62  ...      522.42     2388.03   \n",
       "3     642.35    1582.79    1401.87      14.62  ...      522.86     2388.08   \n",
       "4     642.37    1582.85    1406.22      14.62  ...      522.19     2388.04   \n",
       "\n",
       "   Section-18  Section-19  Section-20  Section-21  Section-22  Section-23  \\\n",
       "0     8138.62      8.4195        0.03         392        2388       100.0   \n",
       "1     8131.49      8.4318        0.03         392        2388       100.0   \n",
       "2     8133.23      8.4178        0.03         390        2388       100.0   \n",
       "3     8133.83      8.3682        0.03         392        2388       100.0   \n",
       "4     8133.80      8.4294        0.03         393        2388       100.0   \n",
       "\n",
       "   Section-24  Section-25  \n",
       "0       39.06     23.4190  \n",
       "1       39.00     23.4236  \n",
       "2       38.95     23.3442  \n",
       "3       38.88     23.3739  \n",
       "4       38.90     23.4044  \n",
       "\n",
       "[5 rows x 26 columns]"
      ]
     },
     "execution_count": 3,
     "metadata": {},
     "output_type": "execute_result"
    }
   ],
   "source": [
    "#columns = ['unit_number','time_in_cycles','setting_1','setting_2','TRA','T2','T24','T30','T50','P2','P15','P30','Nf',\n",
    "#           'Nc','epr','Ps3 0','phi','NRf','NRc','BPR','farB','htBleed','Nf_dmd','PCNfR_dmd','W31','W32' ]\n",
    "#delete NaN values\n",
    "df.drop(columns=[26,27],inplace=True)\n",
    "columns = [\"Section-{}\".format(i)  for i in range(26)]\n",
    "df.columns = columns\n",
    "df.head()"
   ]
  },
  {
   "cell_type": "markdown",
   "metadata": {},
   "source": [
    "#### Dataset statistics  for each parameter"
   ]
  },
  {
   "cell_type": "code",
   "execution_count": 4,
   "metadata": {
    "scrolled": true
   },
   "outputs": [
    {
     "data": {
      "text/html": [
       "<div>\n",
       "<style scoped>\n",
       "    .dataframe tbody tr th:only-of-type {\n",
       "        vertical-align: middle;\n",
       "    }\n",
       "\n",
       "    .dataframe tbody tr th {\n",
       "        vertical-align: top;\n",
       "    }\n",
       "\n",
       "    .dataframe thead th {\n",
       "        text-align: right;\n",
       "    }\n",
       "</style>\n",
       "<table border=\"1\" class=\"dataframe\">\n",
       "  <thead>\n",
       "    <tr style=\"text-align: right;\">\n",
       "      <th></th>\n",
       "      <th>Section-0</th>\n",
       "      <th>Section-1</th>\n",
       "      <th>Section-2</th>\n",
       "      <th>Section-3</th>\n",
       "      <th>Section-4</th>\n",
       "      <th>Section-5</th>\n",
       "      <th>Section-6</th>\n",
       "      <th>Section-7</th>\n",
       "      <th>Section-8</th>\n",
       "      <th>Section-9</th>\n",
       "      <th>...</th>\n",
       "      <th>Section-16</th>\n",
       "      <th>Section-17</th>\n",
       "      <th>Section-18</th>\n",
       "      <th>Section-19</th>\n",
       "      <th>Section-20</th>\n",
       "      <th>Section-21</th>\n",
       "      <th>Section-22</th>\n",
       "      <th>Section-23</th>\n",
       "      <th>Section-24</th>\n",
       "      <th>Section-25</th>\n",
       "    </tr>\n",
       "  </thead>\n",
       "  <tbody>\n",
       "    <tr>\n",
       "      <th>count</th>\n",
       "      <td>20631.000000</td>\n",
       "      <td>20631.000000</td>\n",
       "      <td>20631.000000</td>\n",
       "      <td>20631.000000</td>\n",
       "      <td>20631.0</td>\n",
       "      <td>2.063100e+04</td>\n",
       "      <td>20631.000000</td>\n",
       "      <td>20631.000000</td>\n",
       "      <td>20631.000000</td>\n",
       "      <td>2.063100e+04</td>\n",
       "      <td>...</td>\n",
       "      <td>20631.000000</td>\n",
       "      <td>20631.000000</td>\n",
       "      <td>20631.000000</td>\n",
       "      <td>20631.000000</td>\n",
       "      <td>2.063100e+04</td>\n",
       "      <td>20631.000000</td>\n",
       "      <td>20631.0</td>\n",
       "      <td>20631.0</td>\n",
       "      <td>20631.000000</td>\n",
       "      <td>20631.000000</td>\n",
       "    </tr>\n",
       "    <tr>\n",
       "      <th>mean</th>\n",
       "      <td>51.506568</td>\n",
       "      <td>108.807862</td>\n",
       "      <td>-0.000009</td>\n",
       "      <td>0.000002</td>\n",
       "      <td>100.0</td>\n",
       "      <td>5.186700e+02</td>\n",
       "      <td>642.680934</td>\n",
       "      <td>1590.523119</td>\n",
       "      <td>1408.933782</td>\n",
       "      <td>1.462000e+01</td>\n",
       "      <td>...</td>\n",
       "      <td>521.413470</td>\n",
       "      <td>2388.096152</td>\n",
       "      <td>8143.752722</td>\n",
       "      <td>8.442146</td>\n",
       "      <td>3.000000e-02</td>\n",
       "      <td>393.210654</td>\n",
       "      <td>2388.0</td>\n",
       "      <td>100.0</td>\n",
       "      <td>38.816271</td>\n",
       "      <td>23.289705</td>\n",
       "    </tr>\n",
       "    <tr>\n",
       "      <th>std</th>\n",
       "      <td>29.227633</td>\n",
       "      <td>68.880990</td>\n",
       "      <td>0.002187</td>\n",
       "      <td>0.000293</td>\n",
       "      <td>0.0</td>\n",
       "      <td>6.537152e-11</td>\n",
       "      <td>0.500053</td>\n",
       "      <td>6.131150</td>\n",
       "      <td>9.000605</td>\n",
       "      <td>3.394700e-12</td>\n",
       "      <td>...</td>\n",
       "      <td>0.737553</td>\n",
       "      <td>0.071919</td>\n",
       "      <td>19.076176</td>\n",
       "      <td>0.037505</td>\n",
       "      <td>1.556432e-14</td>\n",
       "      <td>1.548763</td>\n",
       "      <td>0.0</td>\n",
       "      <td>0.0</td>\n",
       "      <td>0.180746</td>\n",
       "      <td>0.108251</td>\n",
       "    </tr>\n",
       "    <tr>\n",
       "      <th>min</th>\n",
       "      <td>1.000000</td>\n",
       "      <td>1.000000</td>\n",
       "      <td>-0.008700</td>\n",
       "      <td>-0.000600</td>\n",
       "      <td>100.0</td>\n",
       "      <td>5.186700e+02</td>\n",
       "      <td>641.210000</td>\n",
       "      <td>1571.040000</td>\n",
       "      <td>1382.250000</td>\n",
       "      <td>1.462000e+01</td>\n",
       "      <td>...</td>\n",
       "      <td>518.690000</td>\n",
       "      <td>2387.880000</td>\n",
       "      <td>8099.940000</td>\n",
       "      <td>8.324900</td>\n",
       "      <td>3.000000e-02</td>\n",
       "      <td>388.000000</td>\n",
       "      <td>2388.0</td>\n",
       "      <td>100.0</td>\n",
       "      <td>38.140000</td>\n",
       "      <td>22.894200</td>\n",
       "    </tr>\n",
       "    <tr>\n",
       "      <th>25%</th>\n",
       "      <td>26.000000</td>\n",
       "      <td>52.000000</td>\n",
       "      <td>-0.001500</td>\n",
       "      <td>-0.000200</td>\n",
       "      <td>100.0</td>\n",
       "      <td>5.186700e+02</td>\n",
       "      <td>642.325000</td>\n",
       "      <td>1586.260000</td>\n",
       "      <td>1402.360000</td>\n",
       "      <td>1.462000e+01</td>\n",
       "      <td>...</td>\n",
       "      <td>520.960000</td>\n",
       "      <td>2388.040000</td>\n",
       "      <td>8133.245000</td>\n",
       "      <td>8.414900</td>\n",
       "      <td>3.000000e-02</td>\n",
       "      <td>392.000000</td>\n",
       "      <td>2388.0</td>\n",
       "      <td>100.0</td>\n",
       "      <td>38.700000</td>\n",
       "      <td>23.221800</td>\n",
       "    </tr>\n",
       "    <tr>\n",
       "      <th>50%</th>\n",
       "      <td>52.000000</td>\n",
       "      <td>104.000000</td>\n",
       "      <td>0.000000</td>\n",
       "      <td>0.000000</td>\n",
       "      <td>100.0</td>\n",
       "      <td>5.186700e+02</td>\n",
       "      <td>642.640000</td>\n",
       "      <td>1590.100000</td>\n",
       "      <td>1408.040000</td>\n",
       "      <td>1.462000e+01</td>\n",
       "      <td>...</td>\n",
       "      <td>521.480000</td>\n",
       "      <td>2388.090000</td>\n",
       "      <td>8140.540000</td>\n",
       "      <td>8.438900</td>\n",
       "      <td>3.000000e-02</td>\n",
       "      <td>393.000000</td>\n",
       "      <td>2388.0</td>\n",
       "      <td>100.0</td>\n",
       "      <td>38.830000</td>\n",
       "      <td>23.297900</td>\n",
       "    </tr>\n",
       "    <tr>\n",
       "      <th>75%</th>\n",
       "      <td>77.000000</td>\n",
       "      <td>156.000000</td>\n",
       "      <td>0.001500</td>\n",
       "      <td>0.000300</td>\n",
       "      <td>100.0</td>\n",
       "      <td>5.186700e+02</td>\n",
       "      <td>643.000000</td>\n",
       "      <td>1594.380000</td>\n",
       "      <td>1414.555000</td>\n",
       "      <td>1.462000e+01</td>\n",
       "      <td>...</td>\n",
       "      <td>521.950000</td>\n",
       "      <td>2388.140000</td>\n",
       "      <td>8148.310000</td>\n",
       "      <td>8.465600</td>\n",
       "      <td>3.000000e-02</td>\n",
       "      <td>394.000000</td>\n",
       "      <td>2388.0</td>\n",
       "      <td>100.0</td>\n",
       "      <td>38.950000</td>\n",
       "      <td>23.366800</td>\n",
       "    </tr>\n",
       "    <tr>\n",
       "      <th>max</th>\n",
       "      <td>100.000000</td>\n",
       "      <td>362.000000</td>\n",
       "      <td>0.008700</td>\n",
       "      <td>0.000600</td>\n",
       "      <td>100.0</td>\n",
       "      <td>5.186700e+02</td>\n",
       "      <td>644.530000</td>\n",
       "      <td>1616.910000</td>\n",
       "      <td>1441.490000</td>\n",
       "      <td>1.462000e+01</td>\n",
       "      <td>...</td>\n",
       "      <td>523.380000</td>\n",
       "      <td>2388.560000</td>\n",
       "      <td>8293.720000</td>\n",
       "      <td>8.584800</td>\n",
       "      <td>3.000000e-02</td>\n",
       "      <td>400.000000</td>\n",
       "      <td>2388.0</td>\n",
       "      <td>100.0</td>\n",
       "      <td>39.430000</td>\n",
       "      <td>23.618400</td>\n",
       "    </tr>\n",
       "  </tbody>\n",
       "</table>\n",
       "<p>8 rows × 26 columns</p>\n",
       "</div>"
      ],
      "text/plain": [
       "          Section-0     Section-1     Section-2     Section-3  Section-4  \\\n",
       "count  20631.000000  20631.000000  20631.000000  20631.000000    20631.0   \n",
       "mean      51.506568    108.807862     -0.000009      0.000002      100.0   \n",
       "std       29.227633     68.880990      0.002187      0.000293        0.0   \n",
       "min        1.000000      1.000000     -0.008700     -0.000600      100.0   \n",
       "25%       26.000000     52.000000     -0.001500     -0.000200      100.0   \n",
       "50%       52.000000    104.000000      0.000000      0.000000      100.0   \n",
       "75%       77.000000    156.000000      0.001500      0.000300      100.0   \n",
       "max      100.000000    362.000000      0.008700      0.000600      100.0   \n",
       "\n",
       "          Section-5     Section-6     Section-7     Section-8     Section-9  \\\n",
       "count  2.063100e+04  20631.000000  20631.000000  20631.000000  2.063100e+04   \n",
       "mean   5.186700e+02    642.680934   1590.523119   1408.933782  1.462000e+01   \n",
       "std    6.537152e-11      0.500053      6.131150      9.000605  3.394700e-12   \n",
       "min    5.186700e+02    641.210000   1571.040000   1382.250000  1.462000e+01   \n",
       "25%    5.186700e+02    642.325000   1586.260000   1402.360000  1.462000e+01   \n",
       "50%    5.186700e+02    642.640000   1590.100000   1408.040000  1.462000e+01   \n",
       "75%    5.186700e+02    643.000000   1594.380000   1414.555000  1.462000e+01   \n",
       "max    5.186700e+02    644.530000   1616.910000   1441.490000  1.462000e+01   \n",
       "\n",
       "       ...    Section-16    Section-17    Section-18    Section-19  \\\n",
       "count  ...  20631.000000  20631.000000  20631.000000  20631.000000   \n",
       "mean   ...    521.413470   2388.096152   8143.752722      8.442146   \n",
       "std    ...      0.737553      0.071919     19.076176      0.037505   \n",
       "min    ...    518.690000   2387.880000   8099.940000      8.324900   \n",
       "25%    ...    520.960000   2388.040000   8133.245000      8.414900   \n",
       "50%    ...    521.480000   2388.090000   8140.540000      8.438900   \n",
       "75%    ...    521.950000   2388.140000   8148.310000      8.465600   \n",
       "max    ...    523.380000   2388.560000   8293.720000      8.584800   \n",
       "\n",
       "         Section-20    Section-21  Section-22  Section-23    Section-24  \\\n",
       "count  2.063100e+04  20631.000000     20631.0     20631.0  20631.000000   \n",
       "mean   3.000000e-02    393.210654      2388.0       100.0     38.816271   \n",
       "std    1.556432e-14      1.548763         0.0         0.0      0.180746   \n",
       "min    3.000000e-02    388.000000      2388.0       100.0     38.140000   \n",
       "25%    3.000000e-02    392.000000      2388.0       100.0     38.700000   \n",
       "50%    3.000000e-02    393.000000      2388.0       100.0     38.830000   \n",
       "75%    3.000000e-02    394.000000      2388.0       100.0     38.950000   \n",
       "max    3.000000e-02    400.000000      2388.0       100.0     39.430000   \n",
       "\n",
       "         Section-25  \n",
       "count  20631.000000  \n",
       "mean      23.289705  \n",
       "std        0.108251  \n",
       "min       22.894200  \n",
       "25%       23.221800  \n",
       "50%       23.297900  \n",
       "75%       23.366800  \n",
       "max       23.618400  \n",
       "\n",
       "[8 rows x 26 columns]"
      ]
     },
     "execution_count": 4,
     "metadata": {},
     "output_type": "execute_result"
    }
   ],
   "source": [
    "df.describe()"
   ]
  },
  {
   "cell_type": "markdown",
   "metadata": {},
   "source": [
    "## <a id='info_about_data'>1.1 Info about data:</a>\n",
    "- Section-0 is MachineID\n",
    "- Section-1 is time in, Cycles\n",
    "- Section-2...4 is Opertional Settings\n",
    "- Section-5...25 is sensor's data \n",
    "\n",
    "\n",
    "- Data Set: FD001\n",
    "- Train trjectories: 100\n",
    "- Test trajectories: 100\n",
    "- Conditions: ONE (Sea Level)\n",
    "- Fault Modes: ONE (HPC Degradation)"
   ]
  },
  {
   "cell_type": "code",
   "execution_count": 5,
   "metadata": {},
   "outputs": [],
   "source": [
    "# Names \n",
    "MachineID_name = [\"Section-0\"]\n",
    "RUL_name = [\"Section-1\"]\n",
    "OS_name = [\"Section-{}\".format(i) for i in range(2,5)]\n",
    "Sensor_name = [\"Section-{}\".format(i) for i in range(5,26)]\n",
    "\n",
    "# Data in pandas DataFrame\n",
    "MachineID_data = df[MachineID_name]\n",
    "RUL_data = df[RUL_name]\n",
    "OS_data = df[OS_name]\n",
    "Sensor_data = df[Sensor_name]\n",
    "\n",
    "# Data in pandas Series\n",
    "MachineID_series = df[\"Section-0\"]\n",
    "RUL_series = df[\"Section-1\"]"
   ]
  },
  {
   "cell_type": "code",
   "execution_count": 6,
   "metadata": {},
   "outputs": [
    {
     "name": "stdout",
     "output_type": "stream",
     "text": [
      "Max Life >>  362\n",
      "Mean Life >>  206.31\n",
      "Min Life >>  128\n"
     ]
    }
   ],
   "source": [
    "grp = RUL_data.groupby(MachineID_series)\n",
    "max_cycles = np.array([max(grp.get_group(i)[\"Section-1\"]) for i in MachineID_series.unique()])\n",
    "print(\"Max Life >> \",max(max_cycles))\n",
    "print(\"Mean Life >> \",np.mean(max_cycles))\n",
    "print(\"Min Life >> \",min(max_cycles))"
   ]
  },
  {
   "cell_type": "markdown",
   "metadata": {},
   "source": [
    "From the above vizulization its clear that \n",
    "- Section-4 (Oprational Setting-3)\n",
    "- Section-5 (Sensor-1)\n",
    "- Section-9  (Sensor-5)\n",
    "- Section-14 (Sensor-10)\n",
    "- Section-20 (Sensor-16)\n",
    "- Section-22 (Sensor-18)\n",
    "- Section-23 (Sensor-19)\n",
    "\n",
    "Does not play a vital role in variation of data and there std is also almost 0 so, these sensor data is useless for us hence, we can drop this coloumn data"
   ]
  },
  {
   "cell_type": "code",
   "execution_count": 7,
   "metadata": {},
   "outputs": [],
   "source": [
    "#delete columns with constant values that do not carry information about the state of the unit\n",
    "#data = pd.concat([RUL_data,OS_data,Sensor_data], axis=1)\n",
    "df.drop(columns=[\"Section-0\",\n",
    "                \"Section-4\", # Operatinal Setting\n",
    "                \"Section-5\", # Sensor data\n",
    "                \"Section-9\", # Sensor data\n",
    "                \"Section-10\", # Sensor data\n",
    "                \"Section-14\",# Sensor data\n",
    "                \"Section-20\",# Sensor data\n",
    "                \"Section-22\",# Sensor data\n",
    "                \"Section-23\"] , inplace=True)"
   ]
  },
  {
   "cell_type": "code",
   "execution_count": 8,
   "metadata": {},
   "outputs": [
    {
     "data": {
      "text/html": [
       "<div>\n",
       "<style scoped>\n",
       "    .dataframe tbody tr th:only-of-type {\n",
       "        vertical-align: middle;\n",
       "    }\n",
       "\n",
       "    .dataframe tbody tr th {\n",
       "        vertical-align: top;\n",
       "    }\n",
       "\n",
       "    .dataframe thead th {\n",
       "        text-align: right;\n",
       "    }\n",
       "</style>\n",
       "<table border=\"1\" class=\"dataframe\">\n",
       "  <thead>\n",
       "    <tr style=\"text-align: right;\">\n",
       "      <th></th>\n",
       "      <th>Section-1</th>\n",
       "      <th>Section-2</th>\n",
       "      <th>Section-3</th>\n",
       "      <th>Section-6</th>\n",
       "      <th>Section-7</th>\n",
       "      <th>Section-8</th>\n",
       "      <th>Section-11</th>\n",
       "      <th>Section-12</th>\n",
       "      <th>Section-13</th>\n",
       "      <th>Section-15</th>\n",
       "      <th>Section-16</th>\n",
       "      <th>Section-17</th>\n",
       "      <th>Section-18</th>\n",
       "      <th>Section-19</th>\n",
       "      <th>Section-21</th>\n",
       "      <th>Section-24</th>\n",
       "      <th>Section-25</th>\n",
       "    </tr>\n",
       "  </thead>\n",
       "  <tbody>\n",
       "    <tr>\n",
       "      <th>0</th>\n",
       "      <td>1</td>\n",
       "      <td>-0.0007</td>\n",
       "      <td>-0.0004</td>\n",
       "      <td>641.82</td>\n",
       "      <td>1589.70</td>\n",
       "      <td>1400.60</td>\n",
       "      <td>554.36</td>\n",
       "      <td>2388.06</td>\n",
       "      <td>9046.19</td>\n",
       "      <td>47.47</td>\n",
       "      <td>521.66</td>\n",
       "      <td>2388.02</td>\n",
       "      <td>8138.62</td>\n",
       "      <td>8.4195</td>\n",
       "      <td>392</td>\n",
       "      <td>39.06</td>\n",
       "      <td>23.4190</td>\n",
       "    </tr>\n",
       "    <tr>\n",
       "      <th>1</th>\n",
       "      <td>2</td>\n",
       "      <td>0.0019</td>\n",
       "      <td>-0.0003</td>\n",
       "      <td>642.15</td>\n",
       "      <td>1591.82</td>\n",
       "      <td>1403.14</td>\n",
       "      <td>553.75</td>\n",
       "      <td>2388.04</td>\n",
       "      <td>9044.07</td>\n",
       "      <td>47.49</td>\n",
       "      <td>522.28</td>\n",
       "      <td>2388.07</td>\n",
       "      <td>8131.49</td>\n",
       "      <td>8.4318</td>\n",
       "      <td>392</td>\n",
       "      <td>39.00</td>\n",
       "      <td>23.4236</td>\n",
       "    </tr>\n",
       "    <tr>\n",
       "      <th>2</th>\n",
       "      <td>3</td>\n",
       "      <td>-0.0043</td>\n",
       "      <td>0.0003</td>\n",
       "      <td>642.35</td>\n",
       "      <td>1587.99</td>\n",
       "      <td>1404.20</td>\n",
       "      <td>554.26</td>\n",
       "      <td>2388.08</td>\n",
       "      <td>9052.94</td>\n",
       "      <td>47.27</td>\n",
       "      <td>522.42</td>\n",
       "      <td>2388.03</td>\n",
       "      <td>8133.23</td>\n",
       "      <td>8.4178</td>\n",
       "      <td>390</td>\n",
       "      <td>38.95</td>\n",
       "      <td>23.3442</td>\n",
       "    </tr>\n",
       "    <tr>\n",
       "      <th>3</th>\n",
       "      <td>4</td>\n",
       "      <td>0.0007</td>\n",
       "      <td>0.0000</td>\n",
       "      <td>642.35</td>\n",
       "      <td>1582.79</td>\n",
       "      <td>1401.87</td>\n",
       "      <td>554.45</td>\n",
       "      <td>2388.11</td>\n",
       "      <td>9049.48</td>\n",
       "      <td>47.13</td>\n",
       "      <td>522.86</td>\n",
       "      <td>2388.08</td>\n",
       "      <td>8133.83</td>\n",
       "      <td>8.3682</td>\n",
       "      <td>392</td>\n",
       "      <td>38.88</td>\n",
       "      <td>23.3739</td>\n",
       "    </tr>\n",
       "    <tr>\n",
       "      <th>4</th>\n",
       "      <td>5</td>\n",
       "      <td>-0.0019</td>\n",
       "      <td>-0.0002</td>\n",
       "      <td>642.37</td>\n",
       "      <td>1582.85</td>\n",
       "      <td>1406.22</td>\n",
       "      <td>554.00</td>\n",
       "      <td>2388.06</td>\n",
       "      <td>9055.15</td>\n",
       "      <td>47.28</td>\n",
       "      <td>522.19</td>\n",
       "      <td>2388.04</td>\n",
       "      <td>8133.80</td>\n",
       "      <td>8.4294</td>\n",
       "      <td>393</td>\n",
       "      <td>38.90</td>\n",
       "      <td>23.4044</td>\n",
       "    </tr>\n",
       "  </tbody>\n",
       "</table>\n",
       "</div>"
      ],
      "text/plain": [
       "   Section-1  Section-2  Section-3  Section-6  Section-7  Section-8  \\\n",
       "0          1    -0.0007    -0.0004     641.82    1589.70    1400.60   \n",
       "1          2     0.0019    -0.0003     642.15    1591.82    1403.14   \n",
       "2          3    -0.0043     0.0003     642.35    1587.99    1404.20   \n",
       "3          4     0.0007     0.0000     642.35    1582.79    1401.87   \n",
       "4          5    -0.0019    -0.0002     642.37    1582.85    1406.22   \n",
       "\n",
       "   Section-11  Section-12  Section-13  Section-15  Section-16  Section-17  \\\n",
       "0      554.36     2388.06     9046.19       47.47      521.66     2388.02   \n",
       "1      553.75     2388.04     9044.07       47.49      522.28     2388.07   \n",
       "2      554.26     2388.08     9052.94       47.27      522.42     2388.03   \n",
       "3      554.45     2388.11     9049.48       47.13      522.86     2388.08   \n",
       "4      554.00     2388.06     9055.15       47.28      522.19     2388.04   \n",
       "\n",
       "   Section-18  Section-19  Section-21  Section-24  Section-25  \n",
       "0     8138.62      8.4195         392       39.06     23.4190  \n",
       "1     8131.49      8.4318         392       39.00     23.4236  \n",
       "2     8133.23      8.4178         390       38.95     23.3442  \n",
       "3     8133.83      8.3682         392       38.88     23.3739  \n",
       "4     8133.80      8.4294         393       38.90     23.4044  "
      ]
     },
     "execution_count": 8,
     "metadata": {},
     "output_type": "execute_result"
    }
   ],
   "source": [
    "df.head()"
   ]
  },
  {
   "cell_type": "markdown",
   "metadata": {},
   "source": [
    "# <a id='noise_removal'>2. Noise removal and Normalization</a>\n",
    "<a href='#index'>Go back to Index</a>"
   ]
  },
  {
   "cell_type": "code",
   "execution_count": 9,
   "metadata": {},
   "outputs": [
    {
     "name": "stdout",
     "output_type": "stream",
     "text": [
      "<class 'pandas.core.frame.DataFrame'>\n"
     ]
    }
   ],
   "source": [
    "print(type(df))\n",
    "gen = MinMaxScaler(feature_range=(0, 1))\n",
    "df = gen.fit_transform(df)\n",
    "df = pd.DataFrame(df)\n",
    "#df = df.rolling(20).mean()\n",
    "# pt = PowerTransformer()\n",
    "# df = pt.fit_transform(df)"
   ]
  },
  {
   "cell_type": "code",
   "execution_count": 10,
   "metadata": {},
   "outputs": [
    {
     "data": {
      "text/html": [
       "<div>\n",
       "<style scoped>\n",
       "    .dataframe tbody tr th:only-of-type {\n",
       "        vertical-align: middle;\n",
       "    }\n",
       "\n",
       "    .dataframe tbody tr th {\n",
       "        vertical-align: top;\n",
       "    }\n",
       "\n",
       "    .dataframe thead th {\n",
       "        text-align: right;\n",
       "    }\n",
       "</style>\n",
       "<table border=\"1\" class=\"dataframe\">\n",
       "  <thead>\n",
       "    <tr style=\"text-align: right;\">\n",
       "      <th></th>\n",
       "      <th>0</th>\n",
       "      <th>1</th>\n",
       "      <th>2</th>\n",
       "      <th>3</th>\n",
       "      <th>4</th>\n",
       "      <th>5</th>\n",
       "      <th>6</th>\n",
       "      <th>7</th>\n",
       "      <th>8</th>\n",
       "      <th>9</th>\n",
       "      <th>10</th>\n",
       "      <th>11</th>\n",
       "      <th>12</th>\n",
       "      <th>13</th>\n",
       "      <th>14</th>\n",
       "      <th>15</th>\n",
       "      <th>16</th>\n",
       "    </tr>\n",
       "  </thead>\n",
       "  <tbody>\n",
       "    <tr>\n",
       "      <th>0</th>\n",
       "      <td>0.000000</td>\n",
       "      <td>0.459770</td>\n",
       "      <td>0.166667</td>\n",
       "      <td>0.183735</td>\n",
       "      <td>0.406802</td>\n",
       "      <td>0.309757</td>\n",
       "      <td>0.726248</td>\n",
       "      <td>0.242424</td>\n",
       "      <td>0.109755</td>\n",
       "      <td>0.369048</td>\n",
       "      <td>0.633262</td>\n",
       "      <td>0.205882</td>\n",
       "      <td>0.199608</td>\n",
       "      <td>0.363986</td>\n",
       "      <td>0.333333</td>\n",
       "      <td>0.713178</td>\n",
       "      <td>0.724662</td>\n",
       "    </tr>\n",
       "    <tr>\n",
       "      <th>1</th>\n",
       "      <td>0.002770</td>\n",
       "      <td>0.609195</td>\n",
       "      <td>0.250000</td>\n",
       "      <td>0.283133</td>\n",
       "      <td>0.453019</td>\n",
       "      <td>0.352633</td>\n",
       "      <td>0.628019</td>\n",
       "      <td>0.212121</td>\n",
       "      <td>0.100242</td>\n",
       "      <td>0.380952</td>\n",
       "      <td>0.765458</td>\n",
       "      <td>0.279412</td>\n",
       "      <td>0.162813</td>\n",
       "      <td>0.411312</td>\n",
       "      <td>0.333333</td>\n",
       "      <td>0.666667</td>\n",
       "      <td>0.731014</td>\n",
       "    </tr>\n",
       "    <tr>\n",
       "      <th>2</th>\n",
       "      <td>0.005540</td>\n",
       "      <td>0.252874</td>\n",
       "      <td>0.750000</td>\n",
       "      <td>0.343373</td>\n",
       "      <td>0.369523</td>\n",
       "      <td>0.370527</td>\n",
       "      <td>0.710145</td>\n",
       "      <td>0.272727</td>\n",
       "      <td>0.140043</td>\n",
       "      <td>0.250000</td>\n",
       "      <td>0.795309</td>\n",
       "      <td>0.220588</td>\n",
       "      <td>0.171793</td>\n",
       "      <td>0.357445</td>\n",
       "      <td>0.166667</td>\n",
       "      <td>0.627907</td>\n",
       "      <td>0.621375</td>\n",
       "    </tr>\n",
       "    <tr>\n",
       "      <th>3</th>\n",
       "      <td>0.008310</td>\n",
       "      <td>0.540230</td>\n",
       "      <td>0.500000</td>\n",
       "      <td>0.343373</td>\n",
       "      <td>0.256159</td>\n",
       "      <td>0.331195</td>\n",
       "      <td>0.740741</td>\n",
       "      <td>0.318182</td>\n",
       "      <td>0.124518</td>\n",
       "      <td>0.166667</td>\n",
       "      <td>0.889126</td>\n",
       "      <td>0.294118</td>\n",
       "      <td>0.174889</td>\n",
       "      <td>0.166603</td>\n",
       "      <td>0.333333</td>\n",
       "      <td>0.573643</td>\n",
       "      <td>0.662386</td>\n",
       "    </tr>\n",
       "    <tr>\n",
       "      <th>4</th>\n",
       "      <td>0.011080</td>\n",
       "      <td>0.390805</td>\n",
       "      <td>0.333333</td>\n",
       "      <td>0.349398</td>\n",
       "      <td>0.257467</td>\n",
       "      <td>0.404625</td>\n",
       "      <td>0.668277</td>\n",
       "      <td>0.242424</td>\n",
       "      <td>0.149960</td>\n",
       "      <td>0.255952</td>\n",
       "      <td>0.746269</td>\n",
       "      <td>0.235294</td>\n",
       "      <td>0.174734</td>\n",
       "      <td>0.402078</td>\n",
       "      <td>0.416667</td>\n",
       "      <td>0.589147</td>\n",
       "      <td>0.704502</td>\n",
       "    </tr>\n",
       "    <tr>\n",
       "      <th>...</th>\n",
       "      <td>...</td>\n",
       "      <td>...</td>\n",
       "      <td>...</td>\n",
       "      <td>...</td>\n",
       "      <td>...</td>\n",
       "      <td>...</td>\n",
       "      <td>...</td>\n",
       "      <td>...</td>\n",
       "      <td>...</td>\n",
       "      <td>...</td>\n",
       "      <td>...</td>\n",
       "      <td>...</td>\n",
       "      <td>...</td>\n",
       "      <td>...</td>\n",
       "      <td>...</td>\n",
       "      <td>...</td>\n",
       "      <td>...</td>\n",
       "    </tr>\n",
       "    <tr>\n",
       "      <th>20626</th>\n",
       "      <td>0.540166</td>\n",
       "      <td>0.477011</td>\n",
       "      <td>0.250000</td>\n",
       "      <td>0.686747</td>\n",
       "      <td>0.587312</td>\n",
       "      <td>0.782917</td>\n",
       "      <td>0.254428</td>\n",
       "      <td>0.439394</td>\n",
       "      <td>0.196491</td>\n",
       "      <td>0.726190</td>\n",
       "      <td>0.170576</td>\n",
       "      <td>0.558824</td>\n",
       "      <td>0.194344</td>\n",
       "      <td>0.656791</td>\n",
       "      <td>0.750000</td>\n",
       "      <td>0.271318</td>\n",
       "      <td>0.109500</td>\n",
       "    </tr>\n",
       "    <tr>\n",
       "      <th>20627</th>\n",
       "      <td>0.542936</td>\n",
       "      <td>0.408046</td>\n",
       "      <td>0.083333</td>\n",
       "      <td>0.701807</td>\n",
       "      <td>0.729453</td>\n",
       "      <td>0.866475</td>\n",
       "      <td>0.162641</td>\n",
       "      <td>0.500000</td>\n",
       "      <td>0.194651</td>\n",
       "      <td>0.708333</td>\n",
       "      <td>0.211087</td>\n",
       "      <td>0.500000</td>\n",
       "      <td>0.188668</td>\n",
       "      <td>0.727203</td>\n",
       "      <td>0.583333</td>\n",
       "      <td>0.124031</td>\n",
       "      <td>0.366197</td>\n",
       "    </tr>\n",
       "    <tr>\n",
       "      <th>20628</th>\n",
       "      <td>0.545706</td>\n",
       "      <td>0.522989</td>\n",
       "      <td>0.500000</td>\n",
       "      <td>0.665663</td>\n",
       "      <td>0.684979</td>\n",
       "      <td>0.775321</td>\n",
       "      <td>0.175523</td>\n",
       "      <td>0.515152</td>\n",
       "      <td>0.198196</td>\n",
       "      <td>0.738095</td>\n",
       "      <td>0.281450</td>\n",
       "      <td>0.529412</td>\n",
       "      <td>0.212148</td>\n",
       "      <td>0.922278</td>\n",
       "      <td>0.833333</td>\n",
       "      <td>0.232558</td>\n",
       "      <td>0.053991</td>\n",
       "    </tr>\n",
       "    <tr>\n",
       "      <th>20629</th>\n",
       "      <td>0.548476</td>\n",
       "      <td>0.436782</td>\n",
       "      <td>0.750000</td>\n",
       "      <td>0.608434</td>\n",
       "      <td>0.746021</td>\n",
       "      <td>0.747468</td>\n",
       "      <td>0.133655</td>\n",
       "      <td>0.530303</td>\n",
       "      <td>0.233285</td>\n",
       "      <td>0.916667</td>\n",
       "      <td>0.208955</td>\n",
       "      <td>0.514706</td>\n",
       "      <td>0.203065</td>\n",
       "      <td>0.823394</td>\n",
       "      <td>0.583333</td>\n",
       "      <td>0.116279</td>\n",
       "      <td>0.234466</td>\n",
       "    </tr>\n",
       "    <tr>\n",
       "      <th>20630</th>\n",
       "      <td>0.551247</td>\n",
       "      <td>0.316092</td>\n",
       "      <td>0.083333</td>\n",
       "      <td>0.795181</td>\n",
       "      <td>0.639634</td>\n",
       "      <td>0.842167</td>\n",
       "      <td>0.151369</td>\n",
       "      <td>0.545455</td>\n",
       "      <td>0.178363</td>\n",
       "      <td>0.803571</td>\n",
       "      <td>0.130064</td>\n",
       "      <td>0.558824</td>\n",
       "      <td>0.192951</td>\n",
       "      <td>0.687572</td>\n",
       "      <td>0.666667</td>\n",
       "      <td>0.178295</td>\n",
       "      <td>0.218172</td>\n",
       "    </tr>\n",
       "  </tbody>\n",
       "</table>\n",
       "<p>20631 rows × 17 columns</p>\n",
       "</div>"
      ],
      "text/plain": [
       "             0         1         2         3         4         5         6   \\\n",
       "0      0.000000  0.459770  0.166667  0.183735  0.406802  0.309757  0.726248   \n",
       "1      0.002770  0.609195  0.250000  0.283133  0.453019  0.352633  0.628019   \n",
       "2      0.005540  0.252874  0.750000  0.343373  0.369523  0.370527  0.710145   \n",
       "3      0.008310  0.540230  0.500000  0.343373  0.256159  0.331195  0.740741   \n",
       "4      0.011080  0.390805  0.333333  0.349398  0.257467  0.404625  0.668277   \n",
       "...         ...       ...       ...       ...       ...       ...       ...   \n",
       "20626  0.540166  0.477011  0.250000  0.686747  0.587312  0.782917  0.254428   \n",
       "20627  0.542936  0.408046  0.083333  0.701807  0.729453  0.866475  0.162641   \n",
       "20628  0.545706  0.522989  0.500000  0.665663  0.684979  0.775321  0.175523   \n",
       "20629  0.548476  0.436782  0.750000  0.608434  0.746021  0.747468  0.133655   \n",
       "20630  0.551247  0.316092  0.083333  0.795181  0.639634  0.842167  0.151369   \n",
       "\n",
       "             7         8         9         10        11        12        13  \\\n",
       "0      0.242424  0.109755  0.369048  0.633262  0.205882  0.199608  0.363986   \n",
       "1      0.212121  0.100242  0.380952  0.765458  0.279412  0.162813  0.411312   \n",
       "2      0.272727  0.140043  0.250000  0.795309  0.220588  0.171793  0.357445   \n",
       "3      0.318182  0.124518  0.166667  0.889126  0.294118  0.174889  0.166603   \n",
       "4      0.242424  0.149960  0.255952  0.746269  0.235294  0.174734  0.402078   \n",
       "...         ...       ...       ...       ...       ...       ...       ...   \n",
       "20626  0.439394  0.196491  0.726190  0.170576  0.558824  0.194344  0.656791   \n",
       "20627  0.500000  0.194651  0.708333  0.211087  0.500000  0.188668  0.727203   \n",
       "20628  0.515152  0.198196  0.738095  0.281450  0.529412  0.212148  0.922278   \n",
       "20629  0.530303  0.233285  0.916667  0.208955  0.514706  0.203065  0.823394   \n",
       "20630  0.545455  0.178363  0.803571  0.130064  0.558824  0.192951  0.687572   \n",
       "\n",
       "             14        15        16  \n",
       "0      0.333333  0.713178  0.724662  \n",
       "1      0.333333  0.666667  0.731014  \n",
       "2      0.166667  0.627907  0.621375  \n",
       "3      0.333333  0.573643  0.662386  \n",
       "4      0.416667  0.589147  0.704502  \n",
       "...         ...       ...       ...  \n",
       "20626  0.750000  0.271318  0.109500  \n",
       "20627  0.583333  0.124031  0.366197  \n",
       "20628  0.833333  0.232558  0.053991  \n",
       "20629  0.583333  0.116279  0.234466  \n",
       "20630  0.666667  0.178295  0.218172  \n",
       "\n",
       "[20631 rows x 17 columns]"
      ]
     },
     "execution_count": 10,
     "metadata": {},
     "output_type": "execute_result"
    }
   ],
   "source": [
    "df"
   ]
  },
  {
   "cell_type": "code",
   "execution_count": 11,
   "metadata": {},
   "outputs": [],
   "source": [
    "df=np.nan_to_num(df)"
   ]
  },
  {
   "cell_type": "code",
   "execution_count": 12,
   "metadata": {},
   "outputs": [
    {
     "data": {
      "text/plain": [
       "array([[0.        , 0.45977011, 0.16666667, ..., 0.33333333, 0.71317829,\n",
       "        0.7246617 ],\n",
       "       [0.00277008, 0.6091954 , 0.25      , ..., 0.33333333, 0.66666667,\n",
       "        0.73101353],\n",
       "       [0.00554017, 0.25287356, 0.75      , ..., 0.16666667, 0.62790698,\n",
       "        0.62137531],\n",
       "       ...,\n",
       "       [0.54570637, 0.52298851, 0.5       , ..., 0.83333333, 0.23255814,\n",
       "        0.05399061],\n",
       "       [0.54847645, 0.43678161, 0.75      , ..., 0.58333333, 0.11627907,\n",
       "        0.23446562],\n",
       "       [0.55124654, 0.31609195, 0.08333333, ..., 0.66666667, 0.17829457,\n",
       "        0.21817178]])"
      ]
     },
     "execution_count": 12,
     "metadata": {},
     "output_type": "execute_result"
    }
   ],
   "source": [
    "df"
   ]
  },
  {
   "cell_type": "code",
   "execution_count": 13,
   "metadata": {},
   "outputs": [],
   "source": [
    "# grouping w.r.t MID (Machine ID)\n",
    "# col_names = df.columns\n",
    "# def grouping(datafile, mid_series):\n",
    "#     data = [x for x in datafile.groupby(mid_series)]\n",
    "#     return data "
   ]
  },
  {
   "cell_type": "markdown",
   "metadata": {},
   "source": [
    "# <a id='training_and_validation'>3. Training and Validation using LSTM</a>\n",
    "<a href='#index'>Go back to Index</a>"
   ]
  },
  {
   "cell_type": "code",
   "execution_count": 14,
   "metadata": {},
   "outputs": [
    {
     "data": {
      "text/html": [
       "<div>\n",
       "<style scoped>\n",
       "    .dataframe tbody tr th:only-of-type {\n",
       "        vertical-align: middle;\n",
       "    }\n",
       "\n",
       "    .dataframe tbody tr th {\n",
       "        vertical-align: top;\n",
       "    }\n",
       "\n",
       "    .dataframe thead th {\n",
       "        text-align: right;\n",
       "    }\n",
       "</style>\n",
       "<table border=\"1\" class=\"dataframe\">\n",
       "  <thead>\n",
       "    <tr style=\"text-align: right;\">\n",
       "      <th></th>\n",
       "      <th>rul</th>\n",
       "    </tr>\n",
       "  </thead>\n",
       "  <tbody>\n",
       "    <tr>\n",
       "      <th>0</th>\n",
       "      <td>192</td>\n",
       "    </tr>\n",
       "    <tr>\n",
       "      <th>1</th>\n",
       "      <td>191</td>\n",
       "    </tr>\n",
       "    <tr>\n",
       "      <th>2</th>\n",
       "      <td>190</td>\n",
       "    </tr>\n",
       "    <tr>\n",
       "      <th>3</th>\n",
       "      <td>189</td>\n",
       "    </tr>\n",
       "    <tr>\n",
       "      <th>4</th>\n",
       "      <td>188</td>\n",
       "    </tr>\n",
       "  </tbody>\n",
       "</table>\n",
       "</div>"
      ],
      "text/plain": [
       "   rul\n",
       "0  192\n",
       "1  191\n",
       "2  190\n",
       "3  189\n",
       "4  188"
      ]
     },
     "execution_count": 14,
     "metadata": {},
     "output_type": "execute_result"
    }
   ],
   "source": [
    "def RUL_df():\n",
    "    rul_lst = [j  for i in MachineID_series.unique() for j in np.array(grp.get_group(i)[::-1][\"Section-1\"])]\n",
    "    rul_col = pd.DataFrame({\"rul\":rul_lst})\n",
    "    return rul_col\n",
    "\n",
    "RUL_df().head()"
   ]
  },
  {
   "cell_type": "code",
   "execution_count": 15,
   "metadata": {},
   "outputs": [
    {
     "name": "stdout",
     "output_type": "stream",
     "text": [
      "(20631, 17) (20631, 1)\n"
     ]
    }
   ],
   "source": [
    "X_train = np.array(df)\n",
    "\n",
    "y_train = np.array(RUL_df()).reshape(-1,1).clip(max=135)\n",
    "\n",
    "#X_train, X_test, y_train, y_test = train_test_split(X, y, test_size = 0.20) \n",
    "\n",
    "\n",
    "print(X_train.shape,y_train.shape)"
   ]
  },
  {
   "cell_type": "code",
   "execution_count": 16,
   "metadata": {},
   "outputs": [
    {
     "data": {
      "text/plain": [
       "[<matplotlib.lines.Line2D at 0x278f0afab10>]"
      ]
     },
     "execution_count": 16,
     "metadata": {},
     "output_type": "execute_result"
    },
    {
     "data": {
      "image/png": "[encoded data removed]",
      "text/plain": [
       "<Figure size 640x480 with 1 Axes>"
      ]
     },
     "metadata": {},
     "output_type": "display_data"
    }
   ],
   "source": [
    "plt.plot(y_train[:1000])"
   ]
  },
  {
   "cell_type": "code",
   "execution_count": 17,
   "metadata": {},
   "outputs": [
    {
     "data": {
      "text/plain": [
       "array([192, 287, 179, 189, 269, 188, 259, 150, 201, 222, 240, 170, 163,\n",
       "       180, 207, 209, 276, 195, 158, 234, 195, 202, 168, 147, 230, 199,\n",
       "       156, 165, 163, 194, 234, 191, 200, 195, 181, 158, 170, 194, 128,\n",
       "       188, 216, 196, 207, 192, 158, 256, 214, 231, 215, 198, 213, 213,\n",
       "       195, 257, 193, 275, 137, 147, 231, 172, 185, 180, 174, 283, 153,\n",
       "       202, 313, 199, 362, 137, 208, 213, 213, 166, 229, 210, 154, 231,\n",
       "       199, 185, 240, 214, 293, 267, 188, 278, 178, 213, 217, 154, 135,\n",
       "       341, 155, 258, 283, 336, 202, 156, 185, 200])"
      ]
     },
     "execution_count": 17,
     "metadata": {},
     "output_type": "execute_result"
    }
   ],
   "source": [
    "max_cycles"
   ]
  },
  {
   "cell_type": "code",
   "execution_count": 18,
   "metadata": {},
   "outputs": [
    {
     "data": {
      "text/plain": [
       "188"
      ]
     },
     "execution_count": 18,
     "metadata": {},
     "output_type": "execute_result"
    }
   ],
   "source": [
    "max_cycles[5]"
   ]
  },
  {
   "cell_type": "code",
   "execution_count": 19,
   "metadata": {},
   "outputs": [],
   "source": [
    "# window_size = 20\n",
    "\n",
    "# X_time = []\n",
    "# y_time = []\n",
    "\n",
    "# for i in range(100):\n",
    "#     i_idx = grp.get_group(i+1).values.reshape(-1)\n",
    "\n",
    "#     for j in range(len(i_idx)-window_size):\n",
    "#         X_time.append(X_train[i_idx[0]+j:i_idx[0]+j+window_size])\n",
    "\n",
    "#     y_time.append(y_train[i_idx[0]+window_size:i_idx[-1]+1])\n",
    "\n",
    "\n",
    "# X_train = np.array(X_time)\n",
    "# y_train = np.concatenate(y_time, axis=0).reshape(-1)"
   ]
  },
  {
   "cell_type": "code",
   "execution_count": 20,
   "metadata": {},
   "outputs": [
    {
     "name": "stdout",
     "output_type": "stream",
     "text": [
      "[192 287 179 189 269 188 259 150 201 222 240 170 163 180 207 209 276 195\n",
      " 158 234 195 202 168 147 230 199 156 165 163 194 234 191 200 195 181 158\n",
      " 170 194 128 188 216 196 207 192 158 256 214 231 215 198 213 213 195 257\n",
      " 193 275 137 147 231 172 185 180 174 283 153 202 313 199 362 137 208 213\n",
      " 213 166 229 210 154 231 199 185 240 214 293 267 188 278 178 213 217 154\n",
      " 135 341 155 258 283 336 202 156 185 200]\n",
      "20631\n",
      "20631\n"
     ]
    }
   ],
   "source": [
    "print(max_cycles)\n",
    "print(sum(max_cycles))\n",
    "count = 0\n",
    "for cycle_len in max_cycles:\n",
    "    for i in range(21):\n",
    "        y_train[count+i] = 0\n",
    "    count = count + cycle_len\n",
    "print(count)"
   ]
  },
  {
   "cell_type": "code",
   "execution_count": 21,
   "metadata": {},
   "outputs": [],
   "source": [
    "def create_dataset(X, look_back=20):\n",
    "    data = []\n",
    "    for i in range(len(X)-look_back-1):\n",
    "        data.append(X[i:(i+look_back)])\n",
    "    return np.array(data)\n",
    "\n",
    "\n",
    "X_train = create_dataset(X_train)\n",
    "y_train = y_train[21:]"
   ]
  },
  {
   "cell_type": "code",
   "execution_count": 22,
   "metadata": {},
   "outputs": [
    {
     "name": "stdout",
     "output_type": "stream",
     "text": [
      "(20610, 20, 17) (20610, 1)\n"
     ]
    }
   ],
   "source": [
    "print(X_train.shape,y_train.shape)"
   ]
  },
  {
   "cell_type": "code",
   "execution_count": 23,
   "metadata": {},
   "outputs": [
    {
     "name": "stdout",
     "output_type": "stream",
     "text": [
      "[[135]\n",
      " [135]\n",
      " [135]\n",
      " ...\n",
      " [  3]\n",
      " [  2]\n",
      " [  1]]\n"
     ]
    }
   ],
   "source": [
    "print(y_train)"
   ]
  },
  {
   "cell_type": "code",
   "execution_count": 24,
   "metadata": {},
   "outputs": [],
   "source": [
    "device = torch.device(\"cuda\" if torch.cuda.is_available() else \"cpu\")\n",
    "#device = torch.device(\"cpu\")\n",
    "\n",
    "X_train = torch.tensor(X_train, dtype=torch.float32)\n",
    "y_train = torch.tensor(y_train, dtype=torch.float32)"
   ]
  },
  {
   "cell_type": "code",
   "execution_count": 25,
   "metadata": {},
   "outputs": [],
   "source": [
    "class CNN(nn.Module):\n",
    "    def __init__(self, feature_size):\n",
    "        super(CNN, self).__init__()\n",
    "        \n",
    "        self.conv1 = nn.Conv1d(17, 32, 3, padding='same')\n",
    "        self.conv2 = nn.Conv1d(32, 64, 3, padding='same')\n",
    "        \n",
    "        self.pooling = nn.MaxPool1d(2, 2)\n",
    "        \n",
    "        self.fc1 = nn.Linear(64*5, 32)\n",
    "        self.fc2 = nn.Linear(32, 1)\n",
    "        \n",
    "        self.relu = nn.ReLU()\n",
    "\n",
    "    def forward(self, x):\n",
    "        # CNN layers\n",
    "        x = x.transpose(1, 2)\n",
    "        out = self.conv1(x)\n",
    "        out = self.relu(out)\n",
    "        out = self.pooling(out)\n",
    "        out = self.conv2(out)\n",
    "        out = self.relu(out)\n",
    "        out = self.pooling(out)\n",
    "        out = out.transpose(1, 2)\n",
    "        \n",
    "        # Dense layers\n",
    "        out = out.flatten(start_dim=1)\n",
    "        out = self.relu(self.fc1(out))  # Take the output of the last time step\n",
    "        out = self.fc2(out)\n",
    "        \n",
    "        return out\n",
    "\n",
    "# Model instantiation\n",
    "def build_model(layers):\n",
    "    model = CNN(layers)\n",
    "    return model\n",
    "\n",
    "# Loss and optimizer\n",
    "model = build_model(X_train.shape[-1]).to(device)  # Example input size (replace with actual layer sizes)\n",
    "loss_fn = nn.MSELoss()\n",
    "optimizer = optim.Adam(model.parameters(), lr=0.001, weight_decay=0.1)"
   ]
  },
  {
   "cell_type": "code",
   "execution_count": 26,
   "metadata": {},
   "outputs": [],
   "source": [
    "train_dataset = TensorDataset(X_train, y_train)\n",
    "train_loader = DataLoader(train_dataset, batch_size=1024, shuffle=True)"
   ]
  },
  {
   "cell_type": "code",
   "execution_count": 27,
   "metadata": {},
   "outputs": [
    {
     "name": "stderr",
     "output_type": "stream",
     "text": [
      "  1%|▏         | 1/75 [00:00<00:47,  1.56it/s]"
     ]
    },
    {
     "name": "stdout",
     "output_type": "stream",
     "text": [
      "Epoch [1/75], Loss: 8369.8158\n"
     ]
    },
    {
     "name": "stderr",
     "output_type": "stream",
     "text": [
      "  3%|▎         | 2/75 [00:01<00:44,  1.66it/s]"
     ]
    },
    {
     "name": "stdout",
     "output_type": "stream",
     "text": [
      "Epoch [2/75], Loss: 6396.8914\n"
     ]
    },
    {
     "name": "stderr",
     "output_type": "stream",
     "text": [
      "  4%|▍         | 3/75 [00:01<00:42,  1.69it/s]"
     ]
    },
    {
     "name": "stdout",
     "output_type": "stream",
     "text": [
      "Epoch [3/75], Loss: 3044.1318\n"
     ]
    },
    {
     "name": "stderr",
     "output_type": "stream",
     "text": [
      "  5%|▌         | 4/75 [00:02<00:45,  1.57it/s]"
     ]
    },
    {
     "name": "stdout",
     "output_type": "stream",
     "text": [
      "Epoch [4/75], Loss: 2526.1249\n"
     ]
    },
    {
     "name": "stderr",
     "output_type": "stream",
     "text": [
      "  7%|▋         | 5/75 [00:03<00:42,  1.64it/s]"
     ]
    },
    {
     "name": "stdout",
     "output_type": "stream",
     "text": [
      "Epoch [5/75], Loss: 2019.1174\n"
     ]
    },
    {
     "name": "stderr",
     "output_type": "stream",
     "text": [
      "  8%|▊         | 6/75 [00:03<00:40,  1.68it/s]"
     ]
    },
    {
     "name": "stdout",
     "output_type": "stream",
     "text": [
      "Epoch [6/75], Loss: 1383.6308\n"
     ]
    },
    {
     "name": "stderr",
     "output_type": "stream",
     "text": [
      "  9%|▉         | 7/75 [00:04<00:39,  1.73it/s]"
     ]
    },
    {
     "name": "stdout",
     "output_type": "stream",
     "text": [
      "Epoch [7/75], Loss: 1022.8615\n"
     ]
    },
    {
     "name": "stderr",
     "output_type": "stream",
     "text": [
      " 11%|█         | 8/75 [00:04<00:37,  1.77it/s]"
     ]
    },
    {
     "name": "stdout",
     "output_type": "stream",
     "text": [
      "Epoch [8/75], Loss: 929.6252\n"
     ]
    },
    {
     "name": "stderr",
     "output_type": "stream",
     "text": [
      " 12%|█▏        | 9/75 [00:05<00:40,  1.62it/s]"
     ]
    },
    {
     "name": "stdout",
     "output_type": "stream",
     "text": [
      "Epoch [9/75], Loss: 825.4038\n"
     ]
    },
    {
     "name": "stderr",
     "output_type": "stream",
     "text": [
      " 13%|█▎        | 10/75 [00:05<00:38,  1.69it/s]"
     ]
    },
    {
     "name": "stdout",
     "output_type": "stream",
     "text": [
      "Epoch [10/75], Loss: 740.3996\n"
     ]
    },
    {
     "name": "stderr",
     "output_type": "stream",
     "text": [
      " 15%|█▍        | 11/75 [00:06<00:37,  1.72it/s]"
     ]
    },
    {
     "name": "stdout",
     "output_type": "stream",
     "text": [
      "Epoch [11/75], Loss: 682.6771\n"
     ]
    },
    {
     "name": "stderr",
     "output_type": "stream",
     "text": [
      " 16%|█▌        | 12/75 [00:07<00:37,  1.70it/s]"
     ]
    },
    {
     "name": "stdout",
     "output_type": "stream",
     "text": [
      "Epoch [12/75], Loss: 644.6408\n"
     ]
    },
    {
     "name": "stderr",
     "output_type": "stream",
     "text": [
      " 17%|█▋        | 13/75 [00:07<00:35,  1.75it/s]"
     ]
    },
    {
     "name": "stdout",
     "output_type": "stream",
     "text": [
      "Epoch [13/75], Loss: 615.2891\n"
     ]
    },
    {
     "name": "stderr",
     "output_type": "stream",
     "text": [
      " 19%|█▊        | 14/75 [00:08<00:36,  1.67it/s]"
     ]
    },
    {
     "name": "stdout",
     "output_type": "stream",
     "text": [
      "Epoch [14/75], Loss: 596.2570\n"
     ]
    },
    {
     "name": "stderr",
     "output_type": "stream",
     "text": [
      " 20%|██        | 15/75 [00:08<00:34,  1.72it/s]"
     ]
    },
    {
     "name": "stdout",
     "output_type": "stream",
     "text": [
      "Epoch [15/75], Loss: 572.9708\n"
     ]
    },
    {
     "name": "stderr",
     "output_type": "stream",
     "text": [
      " 21%|██▏       | 16/75 [00:09<00:33,  1.75it/s]"
     ]
    },
    {
     "name": "stdout",
     "output_type": "stream",
     "text": [
      "Epoch [16/75], Loss: 547.7858\n"
     ]
    },
    {
     "name": "stderr",
     "output_type": "stream",
     "text": [
      " 23%|██▎       | 17/75 [00:09<00:32,  1.77it/s]"
     ]
    },
    {
     "name": "stdout",
     "output_type": "stream",
     "text": [
      "Epoch [17/75], Loss: 550.0107\n"
     ]
    },
    {
     "name": "stderr",
     "output_type": "stream",
     "text": [
      " 24%|██▍       | 18/75 [00:10<00:32,  1.73it/s]"
     ]
    },
    {
     "name": "stdout",
     "output_type": "stream",
     "text": [
      "Epoch [18/75], Loss: 526.0522\n"
     ]
    },
    {
     "name": "stderr",
     "output_type": "stream",
     "text": [
      " 25%|██▌       | 19/75 [00:11<00:31,  1.75it/s]"
     ]
    },
    {
     "name": "stdout",
     "output_type": "stream",
     "text": [
      "Epoch [19/75], Loss: 512.6185\n"
     ]
    },
    {
     "name": "stderr",
     "output_type": "stream",
     "text": [
      " 27%|██▋       | 20/75 [00:11<00:33,  1.66it/s]"
     ]
    },
    {
     "name": "stdout",
     "output_type": "stream",
     "text": [
      "Epoch [20/75], Loss: 502.9870\n"
     ]
    },
    {
     "name": "stderr",
     "output_type": "stream",
     "text": [
      " 28%|██▊       | 21/75 [00:12<00:32,  1.65it/s]"
     ]
    },
    {
     "name": "stdout",
     "output_type": "stream",
     "text": [
      "Epoch [21/75], Loss: 490.7672\n"
     ]
    },
    {
     "name": "stderr",
     "output_type": "stream",
     "text": [
      " 29%|██▉       | 22/75 [00:12<00:31,  1.71it/s]"
     ]
    },
    {
     "name": "stdout",
     "output_type": "stream",
     "text": [
      "Epoch [22/75], Loss: 475.3284\n"
     ]
    },
    {
     "name": "stderr",
     "output_type": "stream",
     "text": [
      " 31%|███       | 23/75 [00:13<00:30,  1.71it/s]"
     ]
    },
    {
     "name": "stdout",
     "output_type": "stream",
     "text": [
      "Epoch [23/75], Loss: 469.0946\n"
     ]
    },
    {
     "name": "stderr",
     "output_type": "stream",
     "text": [
      " 32%|███▏      | 24/75 [00:14<00:29,  1.71it/s]"
     ]
    },
    {
     "name": "stdout",
     "output_type": "stream",
     "text": [
      "Epoch [24/75], Loss: 465.0258\n"
     ]
    },
    {
     "name": "stderr",
     "output_type": "stream",
     "text": [
      " 33%|███▎      | 25/75 [00:14<00:30,  1.64it/s]"
     ]
    },
    {
     "name": "stdout",
     "output_type": "stream",
     "text": [
      "Epoch [25/75], Loss: 458.0938\n"
     ]
    },
    {
     "name": "stderr",
     "output_type": "stream",
     "text": [
      " 35%|███▍      | 26/75 [00:15<00:28,  1.69it/s]"
     ]
    },
    {
     "name": "stdout",
     "output_type": "stream",
     "text": [
      "Epoch [26/75], Loss: 447.7352\n"
     ]
    },
    {
     "name": "stderr",
     "output_type": "stream",
     "text": [
      " 36%|███▌      | 27/75 [00:15<00:27,  1.72it/s]"
     ]
    },
    {
     "name": "stdout",
     "output_type": "stream",
     "text": [
      "Epoch [27/75], Loss: 440.7121\n"
     ]
    },
    {
     "name": "stderr",
     "output_type": "stream",
     "text": [
      " 37%|███▋      | 28/75 [00:16<00:26,  1.75it/s]"
     ]
    },
    {
     "name": "stdout",
     "output_type": "stream",
     "text": [
      "Epoch [28/75], Loss: 426.6249\n"
     ]
    },
    {
     "name": "stderr",
     "output_type": "stream",
     "text": [
      " 39%|███▊      | 29/75 [00:17<00:26,  1.75it/s]"
     ]
    },
    {
     "name": "stdout",
     "output_type": "stream",
     "text": [
      "Epoch [29/75], Loss: 419.1077\n"
     ]
    },
    {
     "name": "stderr",
     "output_type": "stream",
     "text": [
      " 40%|████      | 30/75 [00:17<00:25,  1.78it/s]"
     ]
    },
    {
     "name": "stdout",
     "output_type": "stream",
     "text": [
      "Epoch [30/75], Loss: 406.1459\n"
     ]
    },
    {
     "name": "stderr",
     "output_type": "stream",
     "text": [
      " 41%|████▏     | 31/75 [00:18<00:26,  1.69it/s]"
     ]
    },
    {
     "name": "stdout",
     "output_type": "stream",
     "text": [
      "Epoch [31/75], Loss: 403.5592\n"
     ]
    },
    {
     "name": "stderr",
     "output_type": "stream",
     "text": [
      " 43%|████▎     | 32/75 [00:18<00:24,  1.75it/s]"
     ]
    },
    {
     "name": "stdout",
     "output_type": "stream",
     "text": [
      "Epoch [32/75], Loss: 393.5564\n"
     ]
    },
    {
     "name": "stderr",
     "output_type": "stream",
     "text": [
      " 44%|████▍     | 33/75 [00:19<00:23,  1.78it/s]"
     ]
    },
    {
     "name": "stdout",
     "output_type": "stream",
     "text": [
      "Epoch [33/75], Loss: 390.9104\n"
     ]
    },
    {
     "name": "stderr",
     "output_type": "stream",
     "text": [
      " 45%|████▌     | 34/75 [00:19<00:22,  1.79it/s]"
     ]
    },
    {
     "name": "stdout",
     "output_type": "stream",
     "text": [
      "Epoch [34/75], Loss: 373.0660\n"
     ]
    },
    {
     "name": "stderr",
     "output_type": "stream",
     "text": [
      " 47%|████▋     | 35/75 [00:20<00:22,  1.80it/s]"
     ]
    },
    {
     "name": "stdout",
     "output_type": "stream",
     "text": [
      "Epoch [35/75], Loss: 370.6111\n"
     ]
    },
    {
     "name": "stderr",
     "output_type": "stream",
     "text": [
      " 48%|████▊     | 36/75 [00:21<00:23,  1.67it/s]"
     ]
    },
    {
     "name": "stdout",
     "output_type": "stream",
     "text": [
      "Epoch [36/75], Loss: 362.8823\n"
     ]
    },
    {
     "name": "stderr",
     "output_type": "stream",
     "text": [
      " 49%|████▉     | 37/75 [00:21<00:22,  1.71it/s]"
     ]
    },
    {
     "name": "stdout",
     "output_type": "stream",
     "text": [
      "Epoch [37/75], Loss: 356.2363\n"
     ]
    },
    {
     "name": "stderr",
     "output_type": "stream",
     "text": [
      " 51%|█████     | 38/75 [00:22<00:21,  1.70it/s]"
     ]
    },
    {
     "name": "stdout",
     "output_type": "stream",
     "text": [
      "Epoch [38/75], Loss: 353.5402\n"
     ]
    },
    {
     "name": "stderr",
     "output_type": "stream",
     "text": [
      " 52%|█████▏    | 39/75 [00:22<00:20,  1.75it/s]"
     ]
    },
    {
     "name": "stdout",
     "output_type": "stream",
     "text": [
      "Epoch [39/75], Loss: 348.2821\n"
     ]
    },
    {
     "name": "stderr",
     "output_type": "stream",
     "text": [
      " 53%|█████▎    | 40/75 [00:23<00:19,  1.76it/s]"
     ]
    },
    {
     "name": "stdout",
     "output_type": "stream",
     "text": [
      "Epoch [40/75], Loss: 348.2570\n"
     ]
    },
    {
     "name": "stderr",
     "output_type": "stream",
     "text": [
      " 55%|█████▍    | 41/75 [00:23<00:18,  1.80it/s]"
     ]
    },
    {
     "name": "stdout",
     "output_type": "stream",
     "text": [
      "Epoch [41/75], Loss: 337.3103\n"
     ]
    },
    {
     "name": "stderr",
     "output_type": "stream",
     "text": [
      " 56%|█████▌    | 42/75 [00:24<00:19,  1.67it/s]"
     ]
    },
    {
     "name": "stdout",
     "output_type": "stream",
     "text": [
      "Epoch [42/75], Loss: 334.2164\n"
     ]
    },
    {
     "name": "stderr",
     "output_type": "stream",
     "text": [
      " 57%|█████▋    | 43/75 [00:25<00:18,  1.71it/s]"
     ]
    },
    {
     "name": "stdout",
     "output_type": "stream",
     "text": [
      "Epoch [43/75], Loss: 331.9333\n"
     ]
    },
    {
     "name": "stderr",
     "output_type": "stream",
     "text": [
      " 59%|█████▊    | 44/75 [00:25<00:17,  1.74it/s]"
     ]
    },
    {
     "name": "stdout",
     "output_type": "stream",
     "text": [
      "Epoch [44/75], Loss: 325.3624\n"
     ]
    },
    {
     "name": "stderr",
     "output_type": "stream",
     "text": [
      " 60%|██████    | 45/75 [00:26<00:16,  1.77it/s]"
     ]
    },
    {
     "name": "stdout",
     "output_type": "stream",
     "text": [
      "Epoch [45/75], Loss: 320.5394\n"
     ]
    },
    {
     "name": "stderr",
     "output_type": "stream",
     "text": [
      " 61%|██████▏   | 46/75 [00:26<00:16,  1.74it/s]"
     ]
    },
    {
     "name": "stdout",
     "output_type": "stream",
     "text": [
      "Epoch [46/75], Loss: 321.0249\n"
     ]
    },
    {
     "name": "stderr",
     "output_type": "stream",
     "text": [
      " 63%|██████▎   | 47/75 [00:27<00:16,  1.66it/s]"
     ]
    },
    {
     "name": "stdout",
     "output_type": "stream",
     "text": [
      "Epoch [47/75], Loss: 310.4070\n"
     ]
    },
    {
     "name": "stderr",
     "output_type": "stream",
     "text": [
      " 64%|██████▍   | 48/75 [00:28<00:16,  1.67it/s]"
     ]
    },
    {
     "name": "stdout",
     "output_type": "stream",
     "text": [
      "Epoch [48/75], Loss: 307.2453\n"
     ]
    },
    {
     "name": "stderr",
     "output_type": "stream",
     "text": [
      " 65%|██████▌   | 49/75 [00:28<00:14,  1.74it/s]"
     ]
    },
    {
     "name": "stdout",
     "output_type": "stream",
     "text": [
      "Epoch [49/75], Loss: 305.9628\n"
     ]
    },
    {
     "name": "stderr",
     "output_type": "stream",
     "text": [
      " 67%|██████▋   | 50/75 [00:29<00:14,  1.77it/s]"
     ]
    },
    {
     "name": "stdout",
     "output_type": "stream",
     "text": [
      "Epoch [50/75], Loss: 305.1402\n"
     ]
    },
    {
     "name": "stderr",
     "output_type": "stream",
     "text": [
      " 68%|██████▊   | 51/75 [00:29<00:13,  1.79it/s]"
     ]
    },
    {
     "name": "stdout",
     "output_type": "stream",
     "text": [
      "Epoch [51/75], Loss: 301.1103\n"
     ]
    },
    {
     "name": "stderr",
     "output_type": "stream",
     "text": [
      " 69%|██████▉   | 52/75 [00:30<00:12,  1.79it/s]"
     ]
    },
    {
     "name": "stdout",
     "output_type": "stream",
     "text": [
      "Epoch [52/75], Loss: 297.4917\n"
     ]
    },
    {
     "name": "stderr",
     "output_type": "stream",
     "text": [
      " 71%|███████   | 53/75 [00:30<00:12,  1.72it/s]"
     ]
    },
    {
     "name": "stdout",
     "output_type": "stream",
     "text": [
      "Epoch [53/75], Loss: 294.8293\n"
     ]
    },
    {
     "name": "stderr",
     "output_type": "stream",
     "text": [
      " 72%|███████▏  | 54/75 [00:31<00:11,  1.76it/s]"
     ]
    },
    {
     "name": "stdout",
     "output_type": "stream",
     "text": [
      "Epoch [54/75], Loss: 295.1069\n"
     ]
    },
    {
     "name": "stderr",
     "output_type": "stream",
     "text": [
      " 73%|███████▎  | 55/75 [00:31<00:11,  1.79it/s]"
     ]
    },
    {
     "name": "stdout",
     "output_type": "stream",
     "text": [
      "Epoch [55/75], Loss: 288.3188\n"
     ]
    },
    {
     "name": "stderr",
     "output_type": "stream",
     "text": [
      " 75%|███████▍  | 56/75 [00:32<00:10,  1.83it/s]"
     ]
    },
    {
     "name": "stdout",
     "output_type": "stream",
     "text": [
      "Epoch [56/75], Loss: 291.7512\n"
     ]
    },
    {
     "name": "stderr",
     "output_type": "stream",
     "text": [
      " 76%|███████▌  | 57/75 [00:32<00:09,  1.84it/s]"
     ]
    },
    {
     "name": "stdout",
     "output_type": "stream",
     "text": [
      "Epoch [57/75], Loss: 289.7634\n"
     ]
    },
    {
     "name": "stderr",
     "output_type": "stream",
     "text": [
      " 77%|███████▋  | 58/75 [00:33<00:09,  1.74it/s]"
     ]
    },
    {
     "name": "stdout",
     "output_type": "stream",
     "text": [
      "Epoch [58/75], Loss: 288.0013\n"
     ]
    },
    {
     "name": "stderr",
     "output_type": "stream",
     "text": [
      " 79%|███████▊  | 59/75 [00:34<00:09,  1.76it/s]"
     ]
    },
    {
     "name": "stdout",
     "output_type": "stream",
     "text": [
      "Epoch [59/75], Loss: 288.2173\n"
     ]
    },
    {
     "name": "stderr",
     "output_type": "stream",
     "text": [
      " 80%|████████  | 60/75 [00:34<00:08,  1.81it/s]"
     ]
    },
    {
     "name": "stdout",
     "output_type": "stream",
     "text": [
      "Epoch [60/75], Loss: 285.0085\n"
     ]
    },
    {
     "name": "stderr",
     "output_type": "stream",
     "text": [
      " 81%|████████▏ | 61/75 [00:35<00:07,  1.83it/s]"
     ]
    },
    {
     "name": "stdout",
     "output_type": "stream",
     "text": [
      "Epoch [61/75], Loss: 288.8779\n"
     ]
    },
    {
     "name": "stderr",
     "output_type": "stream",
     "text": [
      " 83%|████████▎ | 62/75 [00:35<00:07,  1.78it/s]"
     ]
    },
    {
     "name": "stdout",
     "output_type": "stream",
     "text": [
      "Epoch [62/75], Loss: 282.2595\n"
     ]
    },
    {
     "name": "stderr",
     "output_type": "stream",
     "text": [
      " 84%|████████▍ | 63/75 [00:36<00:06,  1.75it/s]"
     ]
    },
    {
     "name": "stdout",
     "output_type": "stream",
     "text": [
      "Epoch [63/75], Loss: 280.6209\n"
     ]
    },
    {
     "name": "stderr",
     "output_type": "stream",
     "text": [
      " 85%|████████▌ | 64/75 [00:37<00:06,  1.64it/s]"
     ]
    },
    {
     "name": "stdout",
     "output_type": "stream",
     "text": [
      "Epoch [64/75], Loss: 284.0586\n"
     ]
    },
    {
     "name": "stderr",
     "output_type": "stream",
     "text": [
      " 87%|████████▋ | 65/75 [00:37<00:06,  1.66it/s]"
     ]
    },
    {
     "name": "stdout",
     "output_type": "stream",
     "text": [
      "Epoch [65/75], Loss: 280.2071\n"
     ]
    },
    {
     "name": "stderr",
     "output_type": "stream",
     "text": [
      " 88%|████████▊ | 66/75 [00:38<00:05,  1.70it/s]"
     ]
    },
    {
     "name": "stdout",
     "output_type": "stream",
     "text": [
      "Epoch [66/75], Loss: 277.1198\n"
     ]
    },
    {
     "name": "stderr",
     "output_type": "stream",
     "text": [
      " 89%|████████▉ | 67/75 [00:38<00:04,  1.72it/s]"
     ]
    },
    {
     "name": "stdout",
     "output_type": "stream",
     "text": [
      "Epoch [67/75], Loss: 275.0303\n"
     ]
    },
    {
     "name": "stderr",
     "output_type": "stream",
     "text": [
      " 91%|█████████ | 68/75 [00:39<00:04,  1.72it/s]"
     ]
    },
    {
     "name": "stdout",
     "output_type": "stream",
     "text": [
      "Epoch [68/75], Loss: 277.4928\n"
     ]
    },
    {
     "name": "stderr",
     "output_type": "stream",
     "text": [
      " 92%|█████████▏| 69/75 [00:40<00:03,  1.62it/s]"
     ]
    },
    {
     "name": "stdout",
     "output_type": "stream",
     "text": [
      "Epoch [69/75], Loss: 275.1697\n"
     ]
    },
    {
     "name": "stderr",
     "output_type": "stream",
     "text": [
      " 93%|█████████▎| 70/75 [00:40<00:03,  1.58it/s]"
     ]
    },
    {
     "name": "stdout",
     "output_type": "stream",
     "text": [
      "Epoch [70/75], Loss: 273.7698\n"
     ]
    },
    {
     "name": "stderr",
     "output_type": "stream",
     "text": [
      " 95%|█████████▍| 71/75 [00:41<00:02,  1.65it/s]"
     ]
    },
    {
     "name": "stdout",
     "output_type": "stream",
     "text": [
      "Epoch [71/75], Loss: 272.3345\n"
     ]
    },
    {
     "name": "stderr",
     "output_type": "stream",
     "text": [
      " 96%|█████████▌| 72/75 [00:41<00:01,  1.71it/s]"
     ]
    },
    {
     "name": "stdout",
     "output_type": "stream",
     "text": [
      "Epoch [72/75], Loss: 278.0187\n"
     ]
    },
    {
     "name": "stderr",
     "output_type": "stream",
     "text": [
      " 97%|█████████▋| 73/75 [00:42<00:01,  1.68it/s]"
     ]
    },
    {
     "name": "stdout",
     "output_type": "stream",
     "text": [
      "Epoch [73/75], Loss: 273.7481\n"
     ]
    },
    {
     "name": "stderr",
     "output_type": "stream",
     "text": [
      " 99%|█████████▊| 74/75 [00:43<00:00,  1.55it/s]"
     ]
    },
    {
     "name": "stdout",
     "output_type": "stream",
     "text": [
      "Epoch [74/75], Loss: 283.9580\n"
     ]
    },
    {
     "name": "stderr",
     "output_type": "stream",
     "text": [
      "100%|██████████| 75/75 [00:43<00:00,  1.71it/s]"
     ]
    },
    {
     "name": "stdout",
     "output_type": "stream",
     "text": [
      "Epoch [75/75], Loss: 278.2646\n"
     ]
    },
    {
     "name": "stderr",
     "output_type": "stream",
     "text": [
      "\n"
     ]
    }
   ],
   "source": [
    "epochs = 75\n",
    "for epoch in tqdm(range(epochs)):\n",
    "    model.train()  \n",
    "    running_loss = 0.0\n",
    "\n",
    "    for batch_idx, (inputs, targets) in enumerate(train_loader):\n",
    "        \n",
    "        inputs, targets = inputs.to(device), targets.to(device)\n",
    "\n",
    "        \n",
    "        outputs = model(inputs)\n",
    "        loss = loss_fn(outputs, targets)\n",
    "\n",
    "        \n",
    "        optimizer.zero_grad()  \n",
    "        loss.backward()  \n",
    "        optimizer.step()  \n",
    "\n",
    "        \n",
    "        running_loss += loss.item()\n",
    "\n",
    "    avg_loss = running_loss / len(train_loader)\n",
    "    print(f\"Epoch [{epoch+1}/{epochs}], Loss: {avg_loss:.4f}\")"
   ]
  },
  {
   "cell_type": "code",
   "execution_count": 28,
   "metadata": {},
   "outputs": [
    {
     "data": {
      "text/plain": [
       "tensor([[127.8679],\n",
       "        [127.7871],\n",
       "        [128.1771],\n",
       "        ...,\n",
       "        [  2.5949],\n",
       "        [  1.8272],\n",
       "        [  1.5548]], grad_fn=<AddmmBackward0>)"
      ]
     },
     "execution_count": 28,
     "metadata": {},
     "output_type": "execute_result"
    }
   ],
   "source": [
    "model(X_train.to(device))"
   ]
  },
  {
   "cell_type": "code",
   "execution_count": 29,
   "metadata": {},
   "outputs": [
    {
     "data": {
      "text/plain": [
       "[<matplotlib.lines.Line2D at 0x278f6ef4740>]"
      ]
     },
     "execution_count": 29,
     "metadata": {},
     "output_type": "execute_result"
    },
    {
     "data": {
      "image/png": "[encoded data removed]",
      "text/plain": [
       "<Figure size 640x480 with 1 Axes>"
      ]
     },
     "metadata": {},
     "output_type": "display_data"
    }
   ],
   "source": [
    "pred = model(X_train[:171].to(device)).detach().cpu().numpy()\n",
    "plt.plot(pred)\n",
    "plt.plot(y_train[:171].reshape(-1).numpy())"
   ]
  },
  {
   "cell_type": "code",
   "execution_count": 30,
   "metadata": {},
   "outputs": [
    {
     "name": "stdout",
     "output_type": "stream",
     "text": [
      "mean_squared_error >>  275.9282\n",
      "root_mean_squared_error >>  16.611086422587533\n",
      "mean_absolute_error >> 12.266377\n"
     ]
    }
   ],
   "source": [
    "y_train_pred = model(X_train.to(device)).detach().cpu()\n",
    "print(\"mean_squared_error >> \", mean_squared_error(y_train,y_train_pred))\n",
    "print(\"root_mean_squared_error >> \", math.sqrt(mean_squared_error(y_train,y_train_pred)))\n",
    "print(\"mean_absolute_error >>\",mean_absolute_error(y_train,y_train_pred))"
   ]
  },
  {
   "cell_type": "markdown",
   "metadata": {},
   "source": [
    "# <a id='testing'>4 Testing</a>\n",
    "<a href='#index'>Go back to Index</a>"
   ]
  },
  {
   "cell_type": "code",
   "execution_count": 31,
   "metadata": {},
   "outputs": [
    {
     "data": {
      "text/html": [
       "<div>\n",
       "<style scoped>\n",
       "    .dataframe tbody tr th:only-of-type {\n",
       "        vertical-align: middle;\n",
       "    }\n",
       "\n",
       "    .dataframe tbody tr th {\n",
       "        vertical-align: top;\n",
       "    }\n",
       "\n",
       "    .dataframe thead th {\n",
       "        text-align: right;\n",
       "    }\n",
       "</style>\n",
       "<table border=\"1\" class=\"dataframe\">\n",
       "  <thead>\n",
       "    <tr style=\"text-align: right;\">\n",
       "      <th></th>\n",
       "      <th>Section-0</th>\n",
       "      <th>Section-1</th>\n",
       "      <th>Section-2</th>\n",
       "      <th>Section-3</th>\n",
       "      <th>Section-4</th>\n",
       "      <th>Section-5</th>\n",
       "      <th>Section-6</th>\n",
       "      <th>Section-7</th>\n",
       "      <th>Section-8</th>\n",
       "      <th>Section-9</th>\n",
       "      <th>...</th>\n",
       "      <th>Section-16</th>\n",
       "      <th>Section-17</th>\n",
       "      <th>Section-18</th>\n",
       "      <th>Section-19</th>\n",
       "      <th>Section-20</th>\n",
       "      <th>Section-21</th>\n",
       "      <th>Section-22</th>\n",
       "      <th>Section-23</th>\n",
       "      <th>Section-24</th>\n",
       "      <th>Section-25</th>\n",
       "    </tr>\n",
       "  </thead>\n",
       "  <tbody>\n",
       "    <tr>\n",
       "      <th>0</th>\n",
       "      <td>1</td>\n",
       "      <td>1</td>\n",
       "      <td>0.0023</td>\n",
       "      <td>0.0003</td>\n",
       "      <td>100.0</td>\n",
       "      <td>518.67</td>\n",
       "      <td>643.02</td>\n",
       "      <td>1585.29</td>\n",
       "      <td>1398.21</td>\n",
       "      <td>14.62</td>\n",
       "      <td>...</td>\n",
       "      <td>521.72</td>\n",
       "      <td>2388.03</td>\n",
       "      <td>8125.55</td>\n",
       "      <td>8.4052</td>\n",
       "      <td>0.03</td>\n",
       "      <td>392</td>\n",
       "      <td>2388</td>\n",
       "      <td>100.0</td>\n",
       "      <td>38.86</td>\n",
       "      <td>23.3735</td>\n",
       "    </tr>\n",
       "    <tr>\n",
       "      <th>1</th>\n",
       "      <td>1</td>\n",
       "      <td>2</td>\n",
       "      <td>-0.0027</td>\n",
       "      <td>-0.0003</td>\n",
       "      <td>100.0</td>\n",
       "      <td>518.67</td>\n",
       "      <td>641.71</td>\n",
       "      <td>1588.45</td>\n",
       "      <td>1395.42</td>\n",
       "      <td>14.62</td>\n",
       "      <td>...</td>\n",
       "      <td>522.16</td>\n",
       "      <td>2388.06</td>\n",
       "      <td>8139.62</td>\n",
       "      <td>8.3803</td>\n",
       "      <td>0.03</td>\n",
       "      <td>393</td>\n",
       "      <td>2388</td>\n",
       "      <td>100.0</td>\n",
       "      <td>39.02</td>\n",
       "      <td>23.3916</td>\n",
       "    </tr>\n",
       "    <tr>\n",
       "      <th>2</th>\n",
       "      <td>1</td>\n",
       "      <td>3</td>\n",
       "      <td>0.0003</td>\n",
       "      <td>0.0001</td>\n",
       "      <td>100.0</td>\n",
       "      <td>518.67</td>\n",
       "      <td>642.46</td>\n",
       "      <td>1586.94</td>\n",
       "      <td>1401.34</td>\n",
       "      <td>14.62</td>\n",
       "      <td>...</td>\n",
       "      <td>521.97</td>\n",
       "      <td>2388.03</td>\n",
       "      <td>8130.10</td>\n",
       "      <td>8.4441</td>\n",
       "      <td>0.03</td>\n",
       "      <td>393</td>\n",
       "      <td>2388</td>\n",
       "      <td>100.0</td>\n",
       "      <td>39.08</td>\n",
       "      <td>23.4166</td>\n",
       "    </tr>\n",
       "    <tr>\n",
       "      <th>3</th>\n",
       "      <td>1</td>\n",
       "      <td>4</td>\n",
       "      <td>0.0042</td>\n",
       "      <td>0.0000</td>\n",
       "      <td>100.0</td>\n",
       "      <td>518.67</td>\n",
       "      <td>642.44</td>\n",
       "      <td>1584.12</td>\n",
       "      <td>1406.42</td>\n",
       "      <td>14.62</td>\n",
       "      <td>...</td>\n",
       "      <td>521.38</td>\n",
       "      <td>2388.05</td>\n",
       "      <td>8132.90</td>\n",
       "      <td>8.3917</td>\n",
       "      <td>0.03</td>\n",
       "      <td>391</td>\n",
       "      <td>2388</td>\n",
       "      <td>100.0</td>\n",
       "      <td>39.00</td>\n",
       "      <td>23.3737</td>\n",
       "    </tr>\n",
       "    <tr>\n",
       "      <th>4</th>\n",
       "      <td>1</td>\n",
       "      <td>5</td>\n",
       "      <td>0.0014</td>\n",
       "      <td>0.0000</td>\n",
       "      <td>100.0</td>\n",
       "      <td>518.67</td>\n",
       "      <td>642.51</td>\n",
       "      <td>1587.19</td>\n",
       "      <td>1401.92</td>\n",
       "      <td>14.62</td>\n",
       "      <td>...</td>\n",
       "      <td>522.15</td>\n",
       "      <td>2388.03</td>\n",
       "      <td>8129.54</td>\n",
       "      <td>8.4031</td>\n",
       "      <td>0.03</td>\n",
       "      <td>390</td>\n",
       "      <td>2388</td>\n",
       "      <td>100.0</td>\n",
       "      <td>38.99</td>\n",
       "      <td>23.4130</td>\n",
       "    </tr>\n",
       "  </tbody>\n",
       "</table>\n",
       "<p>5 rows × 26 columns</p>\n",
       "</div>"
      ],
      "text/plain": [
       "   Section-0  Section-1  Section-2  Section-3  Section-4  Section-5  \\\n",
       "0          1          1     0.0023     0.0003      100.0     518.67   \n",
       "1          1          2    -0.0027    -0.0003      100.0     518.67   \n",
       "2          1          3     0.0003     0.0001      100.0     518.67   \n",
       "3          1          4     0.0042     0.0000      100.0     518.67   \n",
       "4          1          5     0.0014     0.0000      100.0     518.67   \n",
       "\n",
       "   Section-6  Section-7  Section-8  Section-9  ...  Section-16  Section-17  \\\n",
       "0     643.02    1585.29    1398.21      14.62  ...      521.72     2388.03   \n",
       "1     641.71    1588.45    1395.42      14.62  ...      522.16     2388.06   \n",
       "2     642.46    1586.94    1401.34      14.62  ...      521.97     2388.03   \n",
       "3     642.44    1584.12    1406.42      14.62  ...      521.38     2388.05   \n",
       "4     642.51    1587.19    1401.92      14.62  ...      522.15     2388.03   \n",
       "\n",
       "   Section-18  Section-19  Section-20  Section-21  Section-22  Section-23  \\\n",
       "0     8125.55      8.4052        0.03         392        2388       100.0   \n",
       "1     8139.62      8.3803        0.03         393        2388       100.0   \n",
       "2     8130.10      8.4441        0.03         393        2388       100.0   \n",
       "3     8132.90      8.3917        0.03         391        2388       100.0   \n",
       "4     8129.54      8.4031        0.03         390        2388       100.0   \n",
       "\n",
       "   Section-24  Section-25  \n",
       "0       38.86     23.3735  \n",
       "1       39.02     23.3916  \n",
       "2       39.08     23.4166  \n",
       "3       39.00     23.3737  \n",
       "4       38.99     23.4130  \n",
       "\n",
       "[5 rows x 26 columns]"
      ]
     },
     "execution_count": 31,
     "metadata": {},
     "output_type": "execute_result"
    }
   ],
   "source": [
    "df_test = pd.read_csv(test_file, sep=\" \",header=None)\n",
    "df_test.drop(columns=[26,27],inplace=True)\n",
    "df_test.columns = columns\n",
    "df_test.head()"
   ]
  },
  {
   "cell_type": "code",
   "execution_count": 32,
   "metadata": {},
   "outputs": [
    {
     "data": {
      "text/html": [
       "<div>\n",
       "<style scoped>\n",
       "    .dataframe tbody tr th:only-of-type {\n",
       "        vertical-align: middle;\n",
       "    }\n",
       "\n",
       "    .dataframe tbody tr th {\n",
       "        vertical-align: top;\n",
       "    }\n",
       "\n",
       "    .dataframe thead th {\n",
       "        text-align: right;\n",
       "    }\n",
       "</style>\n",
       "<table border=\"1\" class=\"dataframe\">\n",
       "  <thead>\n",
       "    <tr style=\"text-align: right;\">\n",
       "      <th></th>\n",
       "      <th>rul</th>\n",
       "    </tr>\n",
       "  </thead>\n",
       "  <tbody>\n",
       "    <tr>\n",
       "      <th>0</th>\n",
       "      <td>112</td>\n",
       "    </tr>\n",
       "    <tr>\n",
       "      <th>1</th>\n",
       "      <td>98</td>\n",
       "    </tr>\n",
       "    <tr>\n",
       "      <th>2</th>\n",
       "      <td>69</td>\n",
       "    </tr>\n",
       "    <tr>\n",
       "      <th>3</th>\n",
       "      <td>82</td>\n",
       "    </tr>\n",
       "    <tr>\n",
       "      <th>4</th>\n",
       "      <td>91</td>\n",
       "    </tr>\n",
       "  </tbody>\n",
       "</table>\n",
       "</div>"
      ],
      "text/plain": [
       "   rul\n",
       "0  112\n",
       "1   98\n",
       "2   69\n",
       "3   82\n",
       "4   91"
      ]
     },
     "execution_count": 32,
     "metadata": {},
     "output_type": "execute_result"
    }
   ],
   "source": [
    "df_rul = pd.read_csv(RUL_file, names=['rul'])\n",
    "df_rul.head()"
   ]
  },
  {
   "cell_type": "code",
   "execution_count": 33,
   "metadata": {},
   "outputs": [],
   "source": [
    "RUL_name = [\"Section-1\"]\n",
    "RUL_data = df_test[RUL_name]\n",
    "MachineID_series = df_test[\"Section-0\"]\n",
    "grp = RUL_data.groupby(MachineID_series)\n",
    "max_cycles = np.array([max(grp.get_group(i)[\"Section-1\"]) for i in MachineID_series.unique()])\n",
    "max_cycles[0] = max_cycles[0] - 21"
   ]
  },
  {
   "cell_type": "code",
   "execution_count": 34,
   "metadata": {},
   "outputs": [],
   "source": [
    "df_test.drop(df_test[[\"Section-0\",\n",
    "                \"Section-4\", # Operatinal Setting\n",
    "                \"Section-5\", # Sensor data\n",
    "                \"Section-9\", # Sensor data\n",
    "                \"Section-10\", # Sensor data\n",
    "                \"Section-14\",# Sensor data\n",
    "                \"Section-20\",# Sensor data\n",
    "                \"Section-22\",# Sensor data\n",
    "                \"Section-23\"]], axis=1 , inplace=True)\n",
    "#df_test = df_test.groupby([\"Section-0\"])\n",
    "#print(df_test)\n"
   ]
  },
  {
   "cell_type": "code",
   "execution_count": 35,
   "metadata": {},
   "outputs": [],
   "source": [
    "gen = MinMaxScaler(feature_range=(0, 1))\n",
    "df_test = gen.fit_transform(df_test)\n",
    "df_test = pd.DataFrame(df_test)\n",
    "#df_test = df_test.rolling(20).mean()\n",
    "# pt = PowerTransformer()\n",
    "# df_test = pt.fit_transform(df_test)\n",
    "# df_test=np.nan_to_num(df_test)"
   ]
  },
  {
   "cell_type": "code",
   "execution_count": 36,
   "metadata": {},
   "outputs": [
    {
     "data": {
      "text/html": [
       "<div>\n",
       "<style scoped>\n",
       "    .dataframe tbody tr th:only-of-type {\n",
       "        vertical-align: middle;\n",
       "    }\n",
       "\n",
       "    .dataframe tbody tr th {\n",
       "        vertical-align: top;\n",
       "    }\n",
       "\n",
       "    .dataframe thead th {\n",
       "        text-align: right;\n",
       "    }\n",
       "</style>\n",
       "<table border=\"1\" class=\"dataframe\">\n",
       "  <thead>\n",
       "    <tr style=\"text-align: right;\">\n",
       "      <th></th>\n",
       "      <th>0</th>\n",
       "      <th>1</th>\n",
       "      <th>2</th>\n",
       "      <th>3</th>\n",
       "      <th>4</th>\n",
       "      <th>5</th>\n",
       "      <th>6</th>\n",
       "      <th>7</th>\n",
       "      <th>8</th>\n",
       "      <th>9</th>\n",
       "      <th>10</th>\n",
       "      <th>11</th>\n",
       "      <th>12</th>\n",
       "      <th>13</th>\n",
       "      <th>14</th>\n",
       "      <th>15</th>\n",
       "      <th>16</th>\n",
       "    </tr>\n",
       "  </thead>\n",
       "  <tbody>\n",
       "    <tr>\n",
       "      <th>0</th>\n",
       "      <td>0.000000</td>\n",
       "      <td>0.65625</td>\n",
       "      <td>0.692308</td>\n",
       "      <td>0.596215</td>\n",
       "      <td>0.421968</td>\n",
       "      <td>0.282214</td>\n",
       "      <td>0.608871</td>\n",
       "      <td>0.365854</td>\n",
       "      <td>0.196475</td>\n",
       "      <td>0.273973</td>\n",
       "      <td>0.534247</td>\n",
       "      <td>0.325581</td>\n",
       "      <td>0.152259</td>\n",
       "      <td>0.347076</td>\n",
       "      <td>0.375</td>\n",
       "      <td>0.500000</td>\n",
       "      <td>0.620099</td>\n",
       "    </tr>\n",
       "    <tr>\n",
       "      <th>1</th>\n",
       "      <td>0.003311</td>\n",
       "      <td>0.34375</td>\n",
       "      <td>0.230769</td>\n",
       "      <td>0.182965</td>\n",
       "      <td>0.504025</td>\n",
       "      <td>0.225240</td>\n",
       "      <td>0.800403</td>\n",
       "      <td>0.292683</td>\n",
       "      <td>0.229042</td>\n",
       "      <td>0.479452</td>\n",
       "      <td>0.634703</td>\n",
       "      <td>0.395349</td>\n",
       "      <td>0.277907</td>\n",
       "      <td>0.227709</td>\n",
       "      <td>0.500</td>\n",
       "      <td>0.645455</td>\n",
       "      <td>0.645718</td>\n",
       "    </tr>\n",
       "    <tr>\n",
       "      <th>2</th>\n",
       "      <td>0.006623</td>\n",
       "      <td>0.53125</td>\n",
       "      <td>0.538462</td>\n",
       "      <td>0.419558</td>\n",
       "      <td>0.464814</td>\n",
       "      <td>0.346130</td>\n",
       "      <td>0.651210</td>\n",
       "      <td>0.390244</td>\n",
       "      <td>0.248506</td>\n",
       "      <td>0.479452</td>\n",
       "      <td>0.591324</td>\n",
       "      <td>0.325581</td>\n",
       "      <td>0.192892</td>\n",
       "      <td>0.533557</td>\n",
       "      <td>0.500</td>\n",
       "      <td>0.700000</td>\n",
       "      <td>0.681104</td>\n",
       "    </tr>\n",
       "    <tr>\n",
       "      <th>3</th>\n",
       "      <td>0.009934</td>\n",
       "      <td>0.77500</td>\n",
       "      <td>0.461538</td>\n",
       "      <td>0.413249</td>\n",
       "      <td>0.391587</td>\n",
       "      <td>0.449867</td>\n",
       "      <td>0.643145</td>\n",
       "      <td>0.341463</td>\n",
       "      <td>0.159080</td>\n",
       "      <td>0.328767</td>\n",
       "      <td>0.456621</td>\n",
       "      <td>0.372093</td>\n",
       "      <td>0.217896</td>\n",
       "      <td>0.282359</td>\n",
       "      <td>0.250</td>\n",
       "      <td>0.627273</td>\n",
       "      <td>0.620382</td>\n",
       "    </tr>\n",
       "    <tr>\n",
       "      <th>4</th>\n",
       "      <td>0.013245</td>\n",
       "      <td>0.60000</td>\n",
       "      <td>0.461538</td>\n",
       "      <td>0.435331</td>\n",
       "      <td>0.471306</td>\n",
       "      <td>0.357974</td>\n",
       "      <td>0.661290</td>\n",
       "      <td>0.292683</td>\n",
       "      <td>0.153410</td>\n",
       "      <td>0.349315</td>\n",
       "      <td>0.632420</td>\n",
       "      <td>0.325581</td>\n",
       "      <td>0.187891</td>\n",
       "      <td>0.337009</td>\n",
       "      <td>0.125</td>\n",
       "      <td>0.618182</td>\n",
       "      <td>0.676008</td>\n",
       "    </tr>\n",
       "    <tr>\n",
       "      <th>...</th>\n",
       "      <td>...</td>\n",
       "      <td>...</td>\n",
       "      <td>...</td>\n",
       "      <td>...</td>\n",
       "      <td>...</td>\n",
       "      <td>...</td>\n",
       "      <td>...</td>\n",
       "      <td>...</td>\n",
       "      <td>...</td>\n",
       "      <td>...</td>\n",
       "      <td>...</td>\n",
       "      <td>...</td>\n",
       "      <td>...</td>\n",
       "      <td>...</td>\n",
       "      <td>...</td>\n",
       "      <td>...</td>\n",
       "      <td>...</td>\n",
       "    </tr>\n",
       "    <tr>\n",
       "      <th>13091</th>\n",
       "      <td>0.639073</td>\n",
       "      <td>0.81875</td>\n",
       "      <td>0.461538</td>\n",
       "      <td>0.665615</td>\n",
       "      <td>0.789665</td>\n",
       "      <td>0.641209</td>\n",
       "      <td>0.510081</td>\n",
       "      <td>0.317073</td>\n",
       "      <td>0.902989</td>\n",
       "      <td>0.609589</td>\n",
       "      <td>0.299087</td>\n",
       "      <td>0.255814</td>\n",
       "      <td>0.935703</td>\n",
       "      <td>0.664909</td>\n",
       "      <td>0.625</td>\n",
       "      <td>0.309091</td>\n",
       "      <td>0.370842</td>\n",
       "    </tr>\n",
       "    <tr>\n",
       "      <th>13092</th>\n",
       "      <td>0.642384</td>\n",
       "      <td>0.44375</td>\n",
       "      <td>0.384615</td>\n",
       "      <td>0.659306</td>\n",
       "      <td>0.692028</td>\n",
       "      <td>0.769042</td>\n",
       "      <td>0.471774</td>\n",
       "      <td>0.390244</td>\n",
       "      <td>0.890038</td>\n",
       "      <td>0.547945</td>\n",
       "      <td>0.381279</td>\n",
       "      <td>0.465116</td>\n",
       "      <td>0.914003</td>\n",
       "      <td>0.567593</td>\n",
       "      <td>0.750</td>\n",
       "      <td>0.236364</td>\n",
       "      <td>0.483652</td>\n",
       "    </tr>\n",
       "    <tr>\n",
       "      <th>13093</th>\n",
       "      <td>0.645695</td>\n",
       "      <td>0.47500</td>\n",
       "      <td>0.230769</td>\n",
       "      <td>0.728707</td>\n",
       "      <td>0.626071</td>\n",
       "      <td>0.458036</td>\n",
       "      <td>0.435484</td>\n",
       "      <td>0.536585</td>\n",
       "      <td>0.937011</td>\n",
       "      <td>0.527397</td>\n",
       "      <td>0.410959</td>\n",
       "      <td>0.348837</td>\n",
       "      <td>0.971066</td>\n",
       "      <td>0.594919</td>\n",
       "      <td>0.750</td>\n",
       "      <td>0.281818</td>\n",
       "      <td>0.381741</td>\n",
       "    </tr>\n",
       "    <tr>\n",
       "      <th>13094</th>\n",
       "      <td>0.649007</td>\n",
       "      <td>0.27500</td>\n",
       "      <td>0.538462</td>\n",
       "      <td>0.671924</td>\n",
       "      <td>0.673851</td>\n",
       "      <td>0.714111</td>\n",
       "      <td>0.502016</td>\n",
       "      <td>0.439024</td>\n",
       "      <td>0.952644</td>\n",
       "      <td>0.554795</td>\n",
       "      <td>0.445205</td>\n",
       "      <td>0.441860</td>\n",
       "      <td>1.000000</td>\n",
       "      <td>0.662991</td>\n",
       "      <td>0.750</td>\n",
       "      <td>0.318182</td>\n",
       "      <td>0.473461</td>\n",
       "    </tr>\n",
       "    <tr>\n",
       "      <th>13095</th>\n",
       "      <td>0.652318</td>\n",
       "      <td>0.59375</td>\n",
       "      <td>0.692308</td>\n",
       "      <td>0.574132</td>\n",
       "      <td>0.846014</td>\n",
       "      <td>0.829079</td>\n",
       "      <td>0.322581</td>\n",
       "      <td>0.414634</td>\n",
       "      <td>1.000000</td>\n",
       "      <td>0.684932</td>\n",
       "      <td>0.385845</td>\n",
       "      <td>0.372093</td>\n",
       "      <td>0.947848</td>\n",
       "      <td>0.755034</td>\n",
       "      <td>0.875</td>\n",
       "      <td>0.354545</td>\n",
       "      <td>0.353999</td>\n",
       "    </tr>\n",
       "  </tbody>\n",
       "</table>\n",
       "<p>13096 rows × 17 columns</p>\n",
       "</div>"
      ],
      "text/plain": [
       "             0        1         2         3         4         5         6   \\\n",
       "0      0.000000  0.65625  0.692308  0.596215  0.421968  0.282214  0.608871   \n",
       "1      0.003311  0.34375  0.230769  0.182965  0.504025  0.225240  0.800403   \n",
       "2      0.006623  0.53125  0.538462  0.419558  0.464814  0.346130  0.651210   \n",
       "3      0.009934  0.77500  0.461538  0.413249  0.391587  0.449867  0.643145   \n",
       "4      0.013245  0.60000  0.461538  0.435331  0.471306  0.357974  0.661290   \n",
       "...         ...      ...       ...       ...       ...       ...       ...   \n",
       "13091  0.639073  0.81875  0.461538  0.665615  0.789665  0.641209  0.510081   \n",
       "13092  0.642384  0.44375  0.384615  0.659306  0.692028  0.769042  0.471774   \n",
       "13093  0.645695  0.47500  0.230769  0.728707  0.626071  0.458036  0.435484   \n",
       "13094  0.649007  0.27500  0.538462  0.671924  0.673851  0.714111  0.502016   \n",
       "13095  0.652318  0.59375  0.692308  0.574132  0.846014  0.829079  0.322581   \n",
       "\n",
       "             7         8         9         10        11        12        13  \\\n",
       "0      0.365854  0.196475  0.273973  0.534247  0.325581  0.152259  0.347076   \n",
       "1      0.292683  0.229042  0.479452  0.634703  0.395349  0.277907  0.227709   \n",
       "2      0.390244  0.248506  0.479452  0.591324  0.325581  0.192892  0.533557   \n",
       "3      0.341463  0.159080  0.328767  0.456621  0.372093  0.217896  0.282359   \n",
       "4      0.292683  0.153410  0.349315  0.632420  0.325581  0.187891  0.337009   \n",
       "...         ...       ...       ...       ...       ...       ...       ...   \n",
       "13091  0.317073  0.902989  0.609589  0.299087  0.255814  0.935703  0.664909   \n",
       "13092  0.390244  0.890038  0.547945  0.381279  0.465116  0.914003  0.567593   \n",
       "13093  0.536585  0.937011  0.527397  0.410959  0.348837  0.971066  0.594919   \n",
       "13094  0.439024  0.952644  0.554795  0.445205  0.441860  1.000000  0.662991   \n",
       "13095  0.414634  1.000000  0.684932  0.385845  0.372093  0.947848  0.755034   \n",
       "\n",
       "          14        15        16  \n",
       "0      0.375  0.500000  0.620099  \n",
       "1      0.500  0.645455  0.645718  \n",
       "2      0.500  0.700000  0.681104  \n",
       "3      0.250  0.627273  0.620382  \n",
       "4      0.125  0.618182  0.676008  \n",
       "...      ...       ...       ...  \n",
       "13091  0.625  0.309091  0.370842  \n",
       "13092  0.750  0.236364  0.483652  \n",
       "13093  0.750  0.281818  0.381741  \n",
       "13094  0.750  0.318182  0.473461  \n",
       "13095  0.875  0.354545  0.353999  \n",
       "\n",
       "[13096 rows x 17 columns]"
      ]
     },
     "execution_count": 36,
     "metadata": {},
     "output_type": "execute_result"
    }
   ],
   "source": [
    "df_test"
   ]
  },
  {
   "cell_type": "code",
   "execution_count": 37,
   "metadata": {},
   "outputs": [
    {
     "name": "stdout",
     "output_type": "stream",
     "text": [
      "(13096, 17) (100, 1)\n",
      "[ 10  49 126 106  98 105 160 166  55 192  83 217 195  46  76 113 165 133\n",
      " 135 184 148  39 130 186  48  76 140 158 171 143 196 145  50 203 198 126\n",
      " 121 125  37 133 123 156 172  54 152 146  73  78 303  74 144 189 164 121\n",
      " 113 136 160 176  94 147 159 232 155 168  71 147  71 187  54 152  68 131\n",
      " 112 137  88 205 162  72 101 133 213 162  73 172  34 110  56  68 177 146\n",
      " 234 150 244 133  89  97 134 121  97 198]\n"
     ]
    }
   ],
   "source": [
    "X_test = np.array(df_test)\n",
    "\n",
    "y_test = np.array(df_rul)\n",
    "\n",
    "\n",
    "\n",
    "# X_train = np.reshape(X_train, (X_train.shape[0], X_train.shape[1], 1))\n",
    "# X_test = np.reshape(X_test, (X_test.shape[0], X_test.shape[1], 1))\n",
    "print(X_test.shape,y_test.shape)\n",
    "print(max_cycles)"
   ]
  },
  {
   "cell_type": "code",
   "execution_count": 38,
   "metadata": {},
   "outputs": [],
   "source": [
    "def create_dataset(X, look_back=20):\n",
    "    data = []\n",
    "    for i in range(len(X)-look_back-1):\n",
    "        data.append(X[i:(i+look_back)])\n",
    "    return np.array(data)"
   ]
  },
  {
   "cell_type": "code",
   "execution_count": 39,
   "metadata": {},
   "outputs": [],
   "source": [
    "X_test = create_dataset(X_test)\n",
    "#y_test = y_test[6:]"
   ]
  },
  {
   "cell_type": "code",
   "execution_count": 40,
   "metadata": {},
   "outputs": [
    {
     "name": "stdout",
     "output_type": "stream",
     "text": [
      "(13075, 20, 17) (100, 1)\n"
     ]
    }
   ],
   "source": [
    "print(X_test.shape,y_test.shape)"
   ]
  },
  {
   "cell_type": "code",
   "execution_count": 41,
   "metadata": {},
   "outputs": [
    {
     "data": {
      "text/plain": [
       "(13075, 20, 17)"
      ]
     },
     "execution_count": 41,
     "metadata": {},
     "output_type": "execute_result"
    }
   ],
   "source": [
    "X_test.shape"
   ]
  },
  {
   "cell_type": "code",
   "execution_count": 42,
   "metadata": {},
   "outputs": [],
   "source": [
    "pred = model(torch.tensor(X_test, dtype=torch.float32).to(device)).detach().cpu()"
   ]
  },
  {
   "cell_type": "code",
   "execution_count": 43,
   "metadata": {},
   "outputs": [
    {
     "data": {
      "text/plain": [
       "torch.Size([13075, 1])"
      ]
     },
     "execution_count": 43,
     "metadata": {},
     "output_type": "execute_result"
    }
   ],
   "source": [
    "pred.shape"
   ]
  },
  {
   "cell_type": "code",
   "execution_count": 44,
   "metadata": {},
   "outputs": [],
   "source": [
    "final_pred = []\n",
    "count = 0\n",
    "for i in range(100):\n",
    "    temp = 0\n",
    "    j = max_cycles[i] \n",
    "    while j>0:\n",
    "        temp = temp + pred[count]\n",
    "        j=j-1\n",
    "        count=count+1\n",
    "    final_pred.append(int(temp/max_cycles[i]))"
   ]
  },
  {
   "cell_type": "code",
   "execution_count": 45,
   "metadata": {},
   "outputs": [
    {
     "name": "stdout",
     "output_type": "stream",
     "text": [
      "[110, 79, 57, 63, 64, 75, 92, 88, 56, 89, 55, 89, 89, 57, 92, 111, 78, 69, 88, 68, 86, 87, 114, 74, 68, 106, 104, 91, 91, 68, 57, 65, 45, 69, 32, 22, 69, 32, 57, 23, 73, 74, 79, 78, 62, 59, 40, 86, 79, 71, 99, 84, 72, 90, 106, 28, 72, 82, 87, 85, 67, 83, 65, 69, 73, 48, 71, 73, 61, 96, 80, 89, 99, 86, 89, 74, 73, 83, 100, 85, 58, 56, 73, 78, 44, 88, 93, 55, 87, 68, 30, 33, 38, 49, 93, 98, 91, 78, 93, 82]\n"
     ]
    }
   ],
   "source": [
    "print(final_pred)"
   ]
  },
  {
   "cell_type": "code",
   "execution_count": 46,
   "metadata": {},
   "outputs": [
    {
     "data": {
      "text/plain": [
       "110"
      ]
     },
     "execution_count": 46,
     "metadata": {},
     "output_type": "execute_result"
    }
   ],
   "source": [
    "final_pred[0]"
   ]
  },
  {
   "cell_type": "markdown",
   "metadata": {},
   "source": [
    "## Using last index as prediction"
   ]
  },
  {
   "cell_type": "code",
   "execution_count": 47,
   "metadata": {},
   "outputs": [],
   "source": [
    "def scoring_function(actual,predicted):\n",
    "    d = []\n",
    "    for i in range(len(predicted)):\n",
    "        d.append((predicted[i] - actual[i]))\n",
    "    scores = []\n",
    "    for i in range(len(d)):\n",
    "        if d[i] >= 0:\n",
    "            scores.append(math.exp(d[i]/10) - 1)\n",
    "        else :\n",
    "            scores.append(math.exp((-1*d[i])/13) - 1)\n",
    "    return sum(scores)"
   ]
  },
  {
   "cell_type": "code",
   "execution_count": 48,
   "metadata": {},
   "outputs": [
    {
     "name": "stdout",
     "output_type": "stream",
     "text": [
      "[92, 71, 23, 42, 42, 64, 93, 43, 65, 59, 32, 70, 70, 53, 96, 92, 35, 13, 69, 1, 48, 104, 91, 10, 94, 92, 71, 67, 62, 36, -5, 24, 41, -3, -5, 0, 6, 18, 110, 1, 18, 1, 38, 85, 33, 23, 43, 75, 0, 78, 67, 24, 18, 90, 94, -4, 46, 22, 88, 59, 12, 30, 27, 9, 107, 2, 94, -7, 101, 58, 93, 41, 95, 62, 71, -7, 18, 108, 79, 63, -7, -4, 110, 27, 81, 70, 91, 55, 65, 14, 0, 1, 10, 22, 97, 76, 73, 53, 84, 8]\n"
     ]
    },
    {
     "data": {
      "image/png": "[encoded data removed]",
      "text/plain": [
       "<Figure size 1800x1000 with 1 Axes>"
      ]
     },
     "metadata": {},
     "output_type": "display_data"
    },
    {
     "name": "stdout",
     "output_type": "stream",
     "text": [
      "mean_squared_error >>  1177.53\n",
      "root_mean_squared_error >>  34.31515700095222\n",
      "mean_absolute_error >> 28.09\n",
      "scoring function >> 4246.741581756741\n"
     ]
    },
    {
     "name": "stderr",
     "output_type": "stream",
     "text": [
      "C:\\Users\\CallO\\AppData\\Local\\Temp\\ipykernel_16304\\1752460767.py:10: DeprecationWarning: Conversion of an array with ndim > 0 to a scalar is deprecated, and will error in future. Ensure you extract a single element from your array before performing this operation. (Deprecated NumPy 1.25.)\n",
      "  scores.append(math.exp((-1*d[i])/13) - 1)\n",
      "C:\\Users\\CallO\\AppData\\Local\\Temp\\ipykernel_16304\\1752460767.py:8: DeprecationWarning: Conversion of an array with ndim > 0 to a scalar is deprecated, and will error in future. Ensure you extract a single element from your array before performing this operation. (Deprecated NumPy 1.25.)\n",
      "  scores.append(math.exp(d[i]/10) - 1)\n"
     ]
    }
   ],
   "source": [
    "final_pred = []\n",
    "count = 0\n",
    "for i in range(100):\n",
    "    j = max_cycles[i] \n",
    "    temp = pred[count+j-1]\n",
    "    count=count+j\n",
    "    final_pred.append(int(temp))\n",
    "\n",
    "print(final_pred)\n",
    "\n",
    "\n",
    "fig = plt.figure(figsize=(18,10))\n",
    "plt.plot(final_pred,color='red', label='prediction')\n",
    "plt.plot(y_test,color='blue', label='y_test')\n",
    "\n",
    "fig.suptitle('RUL Prediction using LSTM with lookack=20', fontsize=35)\n",
    "plt.xlabel(\"Engine Number\", fontsize=35)\n",
    "plt.ylabel(\"Remaining Useful Life\", fontsize=35)\n",
    "\n",
    "plt.legend(loc='upper left')\n",
    "plt.grid()\n",
    "plt.show()\n",
    "\n",
    "print(\"mean_squared_error >> \", mean_squared_error(y_test,final_pred))\n",
    "print(\"root_mean_squared_error >> \", math.sqrt(mean_squared_error(y_test,final_pred)))\n",
    "print(\"mean_absolute_error >>\",mean_absolute_error(y_test,final_pred))\n",
    "print(\"scoring function >>\",scoring_function(y_test,final_pred))"
   ]
  },
  {
   "cell_type": "code",
   "execution_count": null,
   "metadata": {},
   "outputs": [],
   "source": []
  },
  {
   "cell_type": "code",
   "execution_count": 49,
   "metadata": {},
   "outputs": [
    {
     "data": {
      "text/plain": [
       "[<matplotlib.lines.Line2D at 0x278f7015880>]"
      ]
     },
     "execution_count": 49,
     "metadata": {},
     "output_type": "execute_result"
    },
    {
     "data": {
      "image/png": "[encoded data removed]",
      "text/plain": [
       "<Figure size 640x480 with 1 Axes>"
      ]
     },
     "metadata": {},
     "output_type": "display_data"
    }
   ],
   "source": [
    "show_idx = grp.get_group(20).index - 10\n",
    "plt.plot(pred[show_idx])"
   ]
  },
  {
   "cell_type": "code",
   "execution_count": 50,
   "metadata": {},
   "outputs": [
    {
     "data": {
      "text/plain": [
       "(array([35, 48, 90], dtype=int64),)"
      ]
     },
     "execution_count": 50,
     "metadata": {},
     "output_type": "execute_result"
    }
   ],
   "source": [
    "np.where(np.isclose(final_pred, 0))"
   ]
  },
  {
   "cell_type": "code",
   "execution_count": 51,
   "metadata": {},
   "outputs": [
    {
     "data": {
      "text/plain": [
       "(array([ 2,  3,  4,  5,  6,  7,  9, 11, 12, 15, 16, 17, 18, 19, 20, 22, 23,\n",
       "        26, 27, 28, 29, 30, 31, 33, 34, 35, 36, 37, 39, 40, 41, 42, 44, 45,\n",
       "        48, 50, 51, 52, 53, 55, 56, 57, 59, 60, 61, 62, 63, 65, 67, 69, 71,\n",
       "        73, 75, 76, 78, 79, 80, 81, 83, 85, 88, 89, 90, 91, 92, 93, 96, 97,\n",
       "        99], dtype=int64),)"
      ]
     },
     "execution_count": 51,
     "metadata": {},
     "output_type": "execute_result"
    }
   ],
   "source": [
    "np.where(max_cycles.reshape(-1)>df_rul.values.reshape(-1))"
   ]
  },
  {
   "cell_type": "code",
   "execution_count": 52,
   "metadata": {},
   "outputs": [
    {
     "data": {
      "text/plain": [
       "[<matplotlib.lines.Line2D at 0x278f6f88ce0>]"
      ]
     },
     "execution_count": 52,
     "metadata": {},
     "output_type": "execute_result"
    },
    {
     "data": {
      "image/png": "[encoded data removed]",
      "text/plain": [
       "<Figure size 640x480 with 1 Axes>"
      ]
     },
     "metadata": {},
     "output_type": "display_data"
    }
   ],
   "source": [
    "plt.plot(max_cycles.reshape(-1)>df_rul.values.reshape(-1))"
   ]
  },
  {
   "cell_type": "code",
   "execution_count": null,
   "metadata": {},
   "outputs": [],
   "source": []
  }
 ],
 "metadata": {
  "kernelspec": {
   "display_name": "torch",
   "language": "python",
   "name": "python3"
  },
  "language_info": {
   "codemirror_mode": {
    "name": "ipython",
    "version": 3
   },
   "file_extension": ".py",
   "mimetype": "text/x-python",
   "name": "python",
   "nbconvert_exporter": "python",
   "pygments_lexer": "ipython3",
   "version": "3.12.4"
  }
 },
 "nbformat": 4,
 "nbformat_minor": 4
}
